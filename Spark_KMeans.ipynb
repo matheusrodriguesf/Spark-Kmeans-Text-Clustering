{
 "cells": [
  {
   "cell_type": "markdown",
   "metadata": {},
   "source": [
    "### Pós-graduação em Ciência de Dados e Machine Learning\n",
    "\n",
    "#### Módulo 3 - Data Mining e Machine Learning\n",
    "\n",
    "#### Disciplina: **Big Data com MapReduce - Spark **\n",
    "\n",
    "#### Turma: **A**\n",
    "\n",
    "#### Projeto Final para disciplina Big Data com MapReduce - Spark \n",
    "\n",
    "<BR>\n",
    "\n",
    "#### Nome do Integrante: Matheus Rodrigues Fernandes Arcelino    RA:    \n"
   ]
  },
  {
   "cell_type": "markdown",
   "metadata": {},
   "source": [
    "# Explicação do projeto final da disciplina\n",
    "\n",
    "\n",
    "A respostas são individuais ou por dupla.\n",
    "\n",
    "Escolha 10 questões desta avaliação final da disciplina.\n",
    "\n",
    "Considere que algumas questões possuem pontuação equivalente a duas questões: questão 5, questão 6 e questão 7. Portanto se você escolhe as questões de 1 a 7 terá a pontuação de 10 questões."
   ]
  },
  {
   "cell_type": "markdown",
   "metadata": {},
   "source": [
    "# Projeto Machine Learning com SPARK"
   ]
  },
  {
   "cell_type": "markdown",
   "metadata": {},
   "source": [
    "### Questão 1) Descrição do Problema\n",
    "*News of the Brazilian Newspaper*  é um dataset obtido em:https://www.kaggle.com/marlesson/news-of-the-site-folhauol.\n",
    "\n",
    "\n",
    "A presente base de dados, contém 167.053 informações a respeito de artigos publicados na  Folha de S. Paulo - http://www.folha.uol.com.br. Os dados foram coletados entres os intervalos de Janeiro de 2015 a setembro de 2017. \n",
    "\n",
    "Processamento de Linguagem Natural (PNL) é uma campo de estudo da ciência da computação que visa treinar o computador para perceber e gerar a linguagem humana diretamente, por meio de algortimos de aprendizado de maquina.\n",
    "\n",
    "O processamento de linguagem natural nas notícias abre as portas para a indústria de mídia. Estes lidam com a linguagem humana durante todos o tempo e a capacidade do computador de trabalhar com a linguagem humana o torna capaz de mudar completamente os processos de mídia em todo o mundo.\n",
    "\n",
    "**Pergunta de pesquisa:** Como podemos utilizar técnicas de processamento de liguagem natural (PNL) para analisar textos e titulos de arigos de jornais?"
   ]
  },
  {
   "cell_type": "markdown",
   "metadata": {},
   "source": [
    "### Questão 2) Algoritmo\n",
    "\n",
    "Qual o motivo da escolha do algoritmo para resolver este problema ?\n",
    "\n",
    "\n",
    "Para a resolução do problema foi aplicado a técnica de aprendizado de máquina não supervisionado.\n",
    "\n",
    "A abordagem escolhida foi de clustering.\n",
    "\n",
    "Algoritmos escolhidos formam:\n",
    "\n",
    " - KMeans\n",
    " - Bisecting k-means\n",
    " \n",
    "\n",
    "K-Means é um dos algoritmos de clustering mais comumente usados que agrupa os pontos de dados em um número predefinido de clusters. \n",
    "\n",
    "Bisecting k-means é um tipo de agrupamento hierárquico que usa uma abordagem divisiva, todas as observações começam em um agrupamento e as divisões são realizadas recursivamente conforme se desce na hierarquia.A divisão das Bisecting k-means pode frequentemente ser muito mais rápida do que as KMeans regulares, mas geralmente produzirá um agrupamento diferente.\n",
    " \n",
    " \n",
    "No que diz respeito a escolha dos algoritmos, a presente pesquisa tem como objetivo verificar o nível de eficiência e performance dos mesmos."
   ]
  },
  {
   "cell_type": "markdown",
   "metadata": {},
   "source": [
    "### Importação dos Pacotes"
   ]
  },
  {
   "cell_type": "code",
   "execution_count": 1,
   "metadata": {},
   "outputs": [
    {
     "name": "stderr",
     "output_type": "stream",
     "text": [
      "[nltk_data] Downloading package stopwords to\n",
      "[nltk_data]     /home/matheus/nltk_data...\n",
      "[nltk_data]   Package stopwords is already up-to-date!\n"
     ]
    }
   ],
   "source": [
    "from pyspark.sql import SparkSession\n",
    "from pyspark.sql.types import IntegerType\n",
    "from pyspark.ml import Pipeline\n",
    "from pyspark.ml.feature import Tokenizer,HashingTF, StringIndexer, RegexTokenizer, StopWordsRemover, CountVectorizer, IDF, Normalizer\n",
    "from pyspark.ml.clustering import KMeans, BisectingKMeans\n",
    "from pyspark.ml.evaluation import ClusteringEvaluator\n",
    "from pyspark.ml.feature import StandardScaler\n",
    "from pyspark.sql.functions import col, udf, regexp_replace, isnull,trim\n",
    "import nltk\n",
    "import warnings as warn\n",
    "import numpy as np\n",
    "import matplotlib.pyplot as plt\n",
    "nltk.download(\"stopwords\")\n",
    "warn.filterwarnings('ignore')"
   ]
  },
  {
   "cell_type": "markdown",
   "metadata": {},
   "source": [
    "### Questão 3) Dataset\n",
    "\n",
    "Leia o dataset\n",
    "\n",
    "Caso seja de um arquivo envie o dataset junto com este notebook. "
   ]
  },
  {
   "cell_type": "code",
   "execution_count": 2,
   "metadata": {},
   "outputs": [],
   "source": [
    "spark = SparkSession.builder.appName(\"clustering_documents\").getOrCreate()"
   ]
  },
  {
   "cell_type": "code",
   "execution_count": 3,
   "metadata": {},
   "outputs": [],
   "source": [
    "#### Resposta\n",
    "brazilian_newspaper = spark.read.csv(\"data/News_of_the_Brazilian_Newspaper/articles.csv\",\n",
    "                                      inferSchema=True, header=True)"
   ]
  },
  {
   "cell_type": "code",
   "execution_count": 4,
   "metadata": {},
   "outputs": [
    {
     "name": "stdout",
     "output_type": "stream",
     "text": [
      "Número de linhas:  174885\n",
      "Número de colunas:  6\n"
     ]
    }
   ],
   "source": [
    "print(\"Número de linhas: \", str(brazilian_newspaper.count()))\n",
    "print(\"Número de colunas: \", str(len(brazilian_newspaper.columns)))"
   ]
  },
  {
   "cell_type": "code",
   "execution_count": 5,
   "metadata": {},
   "outputs": [
    {
     "name": "stdout",
     "output_type": "stream",
     "text": [
      "root\n",
      " |-- title: string (nullable = true)\n",
      " |-- text: string (nullable = true)\n",
      " |-- date: string (nullable = true)\n",
      " |-- category: string (nullable = true)\n",
      " |-- subcategory: string (nullable = true)\n",
      " |-- link: string (nullable = true)\n",
      "\n"
     ]
    }
   ],
   "source": [
    "brazilian_newspaper.printSchema()"
   ]
  },
  {
   "cell_type": "code",
   "execution_count": 6,
   "metadata": {},
   "outputs": [
    {
     "name": "stdout",
     "output_type": "stream",
     "text": [
      "+--------------------+--------------------+--------------------+--------------------+--------------------+--------------------+\n",
      "|               title|                text|                date|            category|         subcategory|                link|\n",
      "+--------------------+--------------------+--------------------+--------------------+--------------------+--------------------+\n",
      "|Lula diz que está...|\"Com a possibilid...| exigiu um pedido...| mesmo fora da di...| será um cabo ele...| réu em sete açõe...|\n",
      "|'Decidi ser escra...|\"Para Oumou Sanga...| disse durante um...|   no Rio de Janeiro| neste domingo (8...| ela conta que co...|\n",
      "|Três reportagens ...|\"Três reportagens...| devastação e mor...| do jornal \"\"O Es...| o Prêmio Petrobr...| além de dois prê...|\n",
      "|Filme 'Star Wars:...|\"A Disney divulgo...| oitavo episódio ...| episódio mais re...| a personagem Rey...| e cenas do trail...|\n",
      "|CBSS inicia acord...|\"O CBSS, banco da...| quase sempre por...| que de fato conc...| disse à Reuters ...| Carlos Giovane. ...|\n",
      "|Em encontro, Bono...|\"O vocalista da b...|      no sul do país| hoje sob posse d...| houve enfrentame...| e testemunhas al...|\n",
      "|Posso sair do Bra...|\"O italiano Cesar...| com visto perman...| afirmou ele em e...| afiliada da TV G...| o desembargador ...|\n",
      "|Tite diz querer s...|\"Pela primeira ve...|  mas ainda é utopia| temos que cresce...| como dirigentes ...| que consegue dei...|\n",
      "|Supremo nega pedi...|\"O STF (Supremo T...| eis que tal comp...| o ato deveria se...| Fabio Konder Com...| Sérgio Sérvulo d...|\n",
      "|Em teste, WhatsAp...|\"O aplicativo de ...| como definiu a e...| segundo a mesma ...| o WhatsApp quer ...| no caso das comp...|\n",
      "|Dodge defende man...|\"A procuradora-ge...|                 que| antes de deferir...| determinou a sus...| escreveu Dodge. ...|\n",
      "|Incêndios deixam ...|\"O governo da Cal...| disse à agência ...| que teve que dei...|  disse Jesús Torres|          de Anaheim|\n",
      "|BNDES descarta ir...|\"O presidente do ...| afirmou Rabello ...| que está no cent...| usou parte dos r...| mas à medida que...|\n",
      "|Apple cita fornec...|\"O presidente-exe...| disse Cook em su...| em francês. Uma ...| que tem defendid...|   como a Amazon.com|\n",
      "|Volkswagen terá c...|\"A Volkswagen pro...|                 que| no caso da monta...| foi de 62% no ac...| diz o executivo ...|\n",
      "|Polícia do Rio pr...|\"A polícia do Rio...| que seria o segu...| o que levanta a ...| que está ocupada...| no último dia 29...|\n",
      "|Juiz decreta pris...|\"O juiz Marcelo B...| exercendo grande...|       provavelmente| a maioria lá col...|00 (cinco milhões...|\n",
      "|Após 50 anos, exe...|\"Cansada depois d...| e um de seus líd...| disse Álvaro Gar...| o vice-president...| que escreveu uma...|\n",
      "|Bolsa recua pelo ...|\"A Bolsa brasilei...| o pessoal acaba ...| João] Dória brig...| não se sabe se p...| afirma.  Além do...|\n",
      "|Parlamentarismo p...|\"\"\"Estou convenci...| afirmou o senado...| realizado no IDP...| tratou da reform...| o senador Cássio...|\n",
      "+--------------------+--------------------+--------------------+--------------------+--------------------+--------------------+\n",
      "only showing top 20 rows\n",
      "\n"
     ]
    }
   ],
   "source": [
    "brazilian_newspaper.show()"
   ]
  },
  {
   "cell_type": "code",
   "execution_count": 7,
   "metadata": {},
   "outputs": [
    {
     "data": {
      "text/plain": [
       "Row(title=\"Lula diz que está 'lascado', mas que ainda tem força como cabo eleitoral\", text='\"Com a possibilidade de uma condenação impedir sua candidatura em 2018, o ex-presidente Luiz Inácio Lula da Silva fez, nesta segunda (9), um discurso inflamado contra a Lava Jato, no qual disse saber que está \"\"lascado\"\"', date=' exigiu um pedido de desculpas do juiz Sergio Moro e afirmou que', category=' mesmo fora da disputa pelo Planalto', subcategory=' será um cabo eleitoral expressivo para a sucessão de Michel Temer.  Segundo o petista', link=' réu em sete ações penais')"
      ]
     },
     "execution_count": 7,
     "metadata": {},
     "output_type": "execute_result"
    }
   ],
   "source": [
    "brazilian_newspaper.head()"
   ]
  },
  {
   "cell_type": "code",
   "execution_count": 8,
   "metadata": {},
   "outputs": [
    {
     "data": {
      "text/plain": [
       "['title', 'text', 'date', 'category', 'subcategory', 'link']"
      ]
     },
     "execution_count": 8,
     "metadata": {},
     "output_type": "execute_result"
    }
   ],
   "source": [
    "brazilian_newspaper.columns"
   ]
  },
  {
   "cell_type": "markdown",
   "metadata": {},
   "source": [
    "### Questão 4) Tratamento dos dados"
   ]
  },
  {
   "cell_type": "code",
   "execution_count": 9,
   "metadata": {},
   "outputs": [],
   "source": [
    "# Selecionando somente os features necessarias para analise \n",
    "base_textos  = brazilian_newspaper.select('title','text')"
   ]
  },
  {
   "cell_type": "code",
   "execution_count": 10,
   "metadata": {},
   "outputs": [
    {
     "name": "stdout",
     "output_type": "stream",
     "text": [
      "+--------------------+--------------------+\n",
      "|               title|                text|\n",
      "+--------------------+--------------------+\n",
      "|Lula diz que está...|\"Com a possibilid...|\n",
      "|'Decidi ser escra...|\"Para Oumou Sanga...|\n",
      "|Três reportagens ...|\"Três reportagens...|\n",
      "|Filme 'Star Wars:...|\"A Disney divulgo...|\n",
      "|CBSS inicia acord...|\"O CBSS, banco da...|\n",
      "|Em encontro, Bono...|\"O vocalista da b...|\n",
      "|Posso sair do Bra...|\"O italiano Cesar...|\n",
      "|Tite diz querer s...|\"Pela primeira ve...|\n",
      "|Supremo nega pedi...|\"O STF (Supremo T...|\n",
      "|Em teste, WhatsAp...|\"O aplicativo de ...|\n",
      "|Dodge defende man...|\"A procuradora-ge...|\n",
      "|Incêndios deixam ...|\"O governo da Cal...|\n",
      "|BNDES descarta ir...|\"O presidente do ...|\n",
      "|Apple cita fornec...|\"O presidente-exe...|\n",
      "|Volkswagen terá c...|\"A Volkswagen pro...|\n",
      "|Polícia do Rio pr...|\"A polícia do Rio...|\n",
      "|Juiz decreta pris...|\"O juiz Marcelo B...|\n",
      "|Após 50 anos, exe...|\"Cansada depois d...|\n",
      "|Bolsa recua pelo ...|\"A Bolsa brasilei...|\n",
      "|Parlamentarismo p...|\"\"\"Estou convenci...|\n",
      "+--------------------+--------------------+\n",
      "only showing top 20 rows\n",
      "\n"
     ]
    }
   ],
   "source": [
    "base_textos.show()"
   ]
  },
  {
   "cell_type": "code",
   "execution_count": 11,
   "metadata": {},
   "outputs": [
    {
     "name": "stdout",
     "output_type": "stream",
     "text": [
      "+--------+-----+\n",
      "|Features|Count|\n",
      "+--------+-----+\n",
      "|    text| 7252|\n",
      "+--------+-----+\n",
      "\n"
     ]
    }
   ],
   "source": [
    "# Verificando a quantidade observações nulas ou vazias\n",
    "def null_value_count(df):\n",
    "    lista_colunas_null = []\n",
    "    num_linhas = df.count()\n",
    "    for k in df.columns:\n",
    "        null_linha = df.where(col(k).isNull()).count()\n",
    "        if(null_linha > 0):\n",
    "            temp = k,null_linha\n",
    "            lista_colunas_null.append(temp)\n",
    "    return(lista_colunas_null)\n",
    "lista_coluna_null = null_value_count(base_textos)\n",
    "spark.createDataFrame(lista_coluna_null, ['Features','Count']).show()"
   ]
  },
  {
   "cell_type": "code",
   "execution_count": 12,
   "metadata": {},
   "outputs": [
    {
     "name": "stdout",
     "output_type": "stream",
     "text": [
      "Número de linhas:  167633\n",
      "Número de colunas:  2\n",
      "=============================================\n",
      "+--------------------+--------------------+\n",
      "|               title|                text|\n",
      "+--------------------+--------------------+\n",
      "|Lula diz que está...|\"Com a possibilid...|\n",
      "|'Decidi ser escra...|\"Para Oumou Sanga...|\n",
      "|Três reportagens ...|\"Três reportagens...|\n",
      "|Filme 'Star Wars:...|\"A Disney divulgo...|\n",
      "|CBSS inicia acord...|\"O CBSS, banco da...|\n",
      "|Em encontro, Bono...|\"O vocalista da b...|\n",
      "|Posso sair do Bra...|\"O italiano Cesar...|\n",
      "|Tite diz querer s...|\"Pela primeira ve...|\n",
      "|Supremo nega pedi...|\"O STF (Supremo T...|\n",
      "|Em teste, WhatsAp...|\"O aplicativo de ...|\n",
      "|Dodge defende man...|\"A procuradora-ge...|\n",
      "|Incêndios deixam ...|\"O governo da Cal...|\n",
      "|BNDES descarta ir...|\"O presidente do ...|\n",
      "|Apple cita fornec...|\"O presidente-exe...|\n",
      "|Volkswagen terá c...|\"A Volkswagen pro...|\n",
      "|Polícia do Rio pr...|\"A polícia do Rio...|\n",
      "|Juiz decreta pris...|\"O juiz Marcelo B...|\n",
      "|Após 50 anos, exe...|\"Cansada depois d...|\n",
      "|Bolsa recua pelo ...|\"A Bolsa brasilei...|\n",
      "|Parlamentarismo p...|\"\"\"Estou convenci...|\n",
      "+--------------------+--------------------+\n",
      "only showing top 20 rows\n",
      "\n"
     ]
    }
   ],
   "source": [
    "base_textos = base_textos.dropna()\n",
    "print(\"Número de linhas: \", str(base_textos.count()))\n",
    "print(\"Número de colunas: \", str(len(base_textos.columns)))\n",
    "print(\"=============================================\")\n",
    "base_textos.show()"
   ]
  },
  {
   "cell_type": "code",
   "execution_count": 13,
   "metadata": {},
   "outputs": [
    {
     "name": "stdout",
     "output_type": "stream",
     "text": [
      "+--------------------+--------------------+\n",
      "|               title|                text|\n",
      "+--------------------+--------------------+\n",
      "|Lula diz que está...|\"Com a possibilid...|\n",
      "|'Decidi ser escra...|\"Para Oumou Sanga...|\n",
      "|Três reportagens ...|\"Três reportagens...|\n",
      "|Filme 'Star Wars:...|\"A Disney divulgo...|\n",
      "|CBSS inicia acord...|\"O CBSS, banco da...|\n",
      "|Em encontro, Bono...|\"O vocalista da b...|\n",
      "|Posso sair do Bra...|\"O italiano Cesar...|\n",
      "|Tite diz querer s...|\"Pela primeira ve...|\n",
      "|Supremo nega pedi...|\"O STF (Supremo T...|\n",
      "|Em teste, WhatsAp...|\"O aplicativo de ...|\n",
      "|Dodge defende man...|\"A procuradora-ge...|\n",
      "|Incêndios deixam ...|\"O governo da Cal...|\n",
      "|BNDES descarta ir...|\"O presidente do ...|\n",
      "|Apple cita fornec...|\"O presidente-exe...|\n",
      "|Volkswagen terá c...|\"A Volkswagen pro...|\n",
      "|Polícia do Rio pr...|\"A polícia do Rio...|\n",
      "|Juiz decreta pris...|\"O juiz Marcelo B...|\n",
      "|Após   anos, exec...|\"Cansada depois d...|\n",
      "|Bolsa recua pelo ...|\"A Bolsa brasilei...|\n",
      "|Parlamentarismo p...|\"\"\"Estou convenci...|\n",
      "+--------------------+--------------------+\n",
      "only showing top 20 rows\n",
      "\n"
     ]
    }
   ],
   "source": [
    "# Removendo todos os caracteres digitos \n",
    "base_textos = base_textos.withColumn(\"text\",regexp_replace(col('text'), '\\d+', ' '))\n",
    "base_textos = base_textos.withColumn(\"text\", trim(col(\"text\")))\n",
    "base_textos = base_textos.withColumn(\"title\",regexp_replace(col('title'), '\\d+', ' '))\n",
    "base_textos = base_textos.withColumn(\"title\", trim(col(\"title\")))\n",
    "base_textos.show()"
   ]
  },
  {
   "cell_type": "code",
   "execution_count": 22,
   "metadata": {},
   "outputs": [],
   "source": [
    "textos = base_textos.select('text')\n",
    "titles = base_textos.select('title')"
   ]
  },
  {
   "cell_type": "code",
   "execution_count": 14,
   "metadata": {},
   "outputs": [],
   "source": [
    "# Pre processamento da base\n",
    "tokenizer = Tokenizer(inputCol=\"text\", outputCol=\"tokens\")\n",
    "stop_words_remover = StopWordsRemover(inputCol='tokens',\n",
    "                                      outputCol='stop_word_removed',\n",
    "                                      stopWords=nltk.corpus.stopwords.words('portuguese'))\n",
    "count_vectorizer = CountVectorizer(inputCol='stop_word_removed', outputCol='raw_features', vocabSize = 1000)\n",
    "idf = IDF(minDocFreq=3, inputCol=\"raw_features\", outputCol=\"idf_features\")\n",
    "standard_scaler = StandardScaler(inputCol='idf_features',outputCol='features', withStd=True, withMean=False)"
   ]
  },
  {
   "cell_type": "code",
   "execution_count": 21,
   "metadata": {},
   "outputs": [],
   "source": [
    "pipeline_texto = Pipeline(stages=[tokenizer, stop_words_remover, count_vectorizer, idf, standard_scaler])"
   ]
  },
  {
   "cell_type": "code",
   "execution_count": 25,
   "metadata": {},
   "outputs": [
    {
     "name": "stdout",
     "output_type": "stream",
     "text": [
      "+--------------------+--------------------+--------------------+--------------------+--------------------+--------------------+\n",
      "|                text|              tokens|   stop_word_removed|        raw_features|        idf_features|            features|\n",
      "+--------------------+--------------------+--------------------+--------------------+--------------------+--------------------+\n",
      "|\"Com a possibilid...|[\"com, a, possibi...|[\"com, possibilid...|(1000,[0,1,2,4,14...|(1000,[0,1,2,4,14...|(1000,[0,1,2,4,14...|\n",
      "|\"Para Oumou Sanga...|[\"para, oumou, sa...|[\"para, oumou, sa...|(1000,[235,490,54...|(1000,[235,490,54...|(1000,[235,490,54...|\n",
      "|\"Três reportagens...|[\"três, reportage...|[\"três, reportage...|(1000,[0,2,10,12,...|(1000,[0,2,10,12,...|(1000,[0,2,10,12,...|\n",
      "|\"A Disney divulgo...|[\"a, disney, divu...|[\"a, disney, divu...|(1000,[2,6,33,43,...|(1000,[2,6,33,43,...|(1000,[2,6,33,43,...|\n",
      "|\"O CBSS, banco da...|[\"o, cbss,, banco...|[\"o, cbss,, banco...|(1000,[0,5,7,19,9...|(1000,[0,5,7,19,9...|(1000,[0,5,7,19,9...|\n",
      "|\"O vocalista da b...|[\"o, vocalista, d...|[\"o, vocalista, b...|(1000,[0,1,2,3,4,...|(1000,[0,1,2,3,4,...|(1000,[0,1,2,3,4,...|\n",
      "|\"O italiano Cesar...|[\"o, italiano, ce...|[\"o, italiano, ce...|(1000,[0,2,4,6,19...|(1000,[0,2,4,6,19...|(1000,[0,2,4,6,19...|\n",
      "|\"Pela primeira ve...|[\"pela, primeira,...|[\"pela, primeira,...|(1000,[0,15,20,21...|(1000,[0,15,20,21...|(1000,[0,15,20,21...|\n",
      "|\"O STF (Supremo T...|[\"o, stf, (suprem...|[\"o, stf, (suprem...|(1000,[0,1,2,6,11...|(1000,[0,1,2,6,11...|(1000,[0,1,2,6,11...|\n",
      "|\"O aplicativo de ...|[\"o, aplicativo, ...|[\"o, aplicativo, ...|(1000,[0,19,83,87...|(1000,[0,19,83,87...|(1000,[0,19,83,87...|\n",
      "|\"A procuradora-ge...|[\"a, procuradora-...|[\"a, procuradora-...|(1000,[0,2,6,21,3...|(1000,[0,2,6,21,3...|(1000,[0,2,6,21,3...|\n",
      "|\"O governo da Cal...|[\"o, governo, da,...|[\"o, governo, cal...|(1000,[0,2,3,4,6,...|(1000,[0,2,3,4,6,...|(1000,[0,2,3,4,6,...|\n",
      "|\"O presidente do ...|[\"o, presidente, ...|[\"o, presidente, ...|(1000,[0,4,8,11,1...|(1000,[0,4,8,11,1...|(1000,[0,4,8,11,1...|\n",
      "|\"O presidente-exe...|[\"o, presidente-e...|[\"o, presidente-e...|(1000,[0,2,4,6,10...|(1000,[0,2,4,6,10...|(1000,[0,2,4,6,10...|\n",
      "|\"A Volkswagen pro...|[\"a, volkswagen, ...|[\"a, volkswagen, ...|(1000,[0,2,4,5,11...|(1000,[0,2,4,5,11...|(1000,[0,2,4,5,11...|\n",
      "|\"A polícia do Rio...|[\"a, polícia, do,...|[\"a, polícia, rio...|(1000,[0,1,2,3,4,...|(1000,[0,1,2,3,4,...|(1000,[0,1,2,3,4,...|\n",
      "|\"O juiz Marcelo B...|[\"o, juiz, marcel...|[\"o, juiz, marcel...|(1000,[0,1,2,3,4,...|(1000,[0,1,2,3,4,...|(1000,[0,1,2,3,4,...|\n",
      "|\"Cansada depois d...|[\"cansada, depois...|[\"cansada, década...|(1000,[0,2,4,6,9,...|(1000,[0,2,4,6,9,...|(1000,[0,2,4,6,9,...|\n",
      "|\"A Bolsa brasilei...|[\"a, bolsa, brasi...|[\"a, bolsa, brasi...|(1000,[0,1,2,3,4,...|(1000,[0,1,2,3,4,...|(1000,[0,1,2,3,4,...|\n",
      "|\"\"\"Estou convenci...|[\"\"\"estou, conven...|[\"\"\"estou, conven...|(1000,[8,141,324]...|(1000,[8,141,324]...|(1000,[8,141,324]...|\n",
      "+--------------------+--------------------+--------------------+--------------------+--------------------+--------------------+\n",
      "only showing top 20 rows\n",
      "\n"
     ]
    }
   ],
   "source": [
    "modelo_texto = pipeline_texto.fit(textos)\n",
    "text_feature = modelo_texto.transform(textos)\n",
    "text_feature.show()"
   ]
  },
  {
   "cell_type": "code",
   "execution_count": 26,
   "metadata": {},
   "outputs": [],
   "source": [
    "tokenizer = Tokenizer(inputCol=\"title\", outputCol=\"tokens\")\n",
    "stop_words_remover = StopWordsRemover(inputCol='tokens',\n",
    "                                      outputCol='stop_word_removed',\n",
    "                                      stopWords=nltk.corpus.stopwords.words('portuguese'))\n",
    "count_vectorizer = CountVectorizer(inputCol='stop_word_removed', outputCol='raw_features', vocabSize = 1000)\n",
    "idf = IDF(minDocFreq=3, inputCol=\"raw_features\", outputCol=\"idf_features\")\n",
    "standard_scaler = StandardScaler(inputCol='idf_features',outputCol='features', withStd=True, withMean=False)"
   ]
  },
  {
   "cell_type": "code",
   "execution_count": 27,
   "metadata": {},
   "outputs": [],
   "source": [
    "pipeline_titulo = Pipeline(stages=[tokenizer, stop_words_remover, count_vectorizer, idf, standard_scaler])"
   ]
  },
  {
   "cell_type": "code",
   "execution_count": 28,
   "metadata": {},
   "outputs": [
    {
     "name": "stdout",
     "output_type": "stream",
     "text": [
      "+--------------------+--------------------+--------------------+--------------------+--------------------+--------------------+\n",
      "|               title|              tokens|   stop_word_removed|        raw_features|        idf_features|            features|\n",
      "+--------------------+--------------------+--------------------+--------------------+--------------------+--------------------+\n",
      "|Lula diz que está...|[lula, diz, que, ...|[lula, diz, 'lasc...|(1000,[1,31,96,31...|(1000,[1,31,96,31...|(1000,[1,31,96,31...|\n",
      "|'Decidi ser escra...|['decidi, ser, es...|['decidi, ser, es...|(1000,[1,21,187],...|(1000,[1,21,187],...|(1000,[1,21,187],...|\n",
      "|Três reportagens ...|[três, reportagen...|[três, reportagen...|(1000,[42,79,86,1...|(1000,[42,79,86,1...|(1000,[42,79,86,1...|\n",
      "|Filme 'Star Wars:...|[filme, 'star, wa...|[filme, 'star, wa...|(1000,[73,118],[1...|(1000,[73,118],[5...|(1000,[73,118],[1...|\n",
      "|CBSS inicia acord...|[cbss, inicia, ac...|[cbss, inicia, ac...|(1000,[0,13,29,40...|(1000,[0,13,29,40...|(1000,[0,13,29,40...|\n",
      "|Em encontro, Bono...|[em, encontro,, b...|[encontro,, bono,...|(1000,[2,679,988]...|(1000,[2,679,988]...|(1000,[2,679,988]...|\n",
      "|Posso sair do Bra...|[posso, sair, do,...|[posso, sair, bra...|(1000,[1,5,619],[...|(1000,[1,5,619],[...|(1000,[1,5,619],[...|\n",
      "|Tite diz querer s...|[tite, diz, quere...|[tite, diz, quere...|(1000,[1,3,119,14...|(1000,[1,3,119,14...|(1000,[1,3,119,14...|\n",
      "|Supremo nega pedi...|[supremo, nega, p...|[supremo, nega, p...|(1000,[54,104,128...|(1000,[54,104,128...|(1000,[54,104,128...|\n",
      "|Em teste, WhatsAp...|[em, teste,, what...|[teste,, whatsapp...|(1000,[81,946],[1...|(1000,[81,946],[5...|(1000,[81,946],[1...|\n",
      "|Dodge defende man...|[dodge, defende, ...|[dodge, defende, ...|(1000,[110,325,38...|(1000,[110,325,38...|(1000,[110,325,38...|\n",
      "|Incêndios deixam ...|[incêndios, deixa...|[incêndios, deixa...|(1000,[0,127,414,...|(1000,[0,127,414,...|(1000,[0,127,414,...|\n",
      "|BNDES descarta ir...|[bndes, descarta,...|[bndes, descarta,...|(1000,[395,485],[...|(1000,[395,485],[...|(1000,[395,485],[...|\n",
      "|Apple cita fornec...|[apple, cita, for...|[apple, cita, for...|(1000,[105,494,55...|(1000,[105,494,55...|(1000,[105,494,55...|\n",
      "|Volkswagen terá c...|[volkswagen, terá...|[volkswagen, cres...|(1000,[0,1,13,20,...|(1000,[0,1,13,20,...|(1000,[0,1,13,20,...|\n",
      "|Polícia do Rio pr...|[polícia, do, rio...|[polícia, rio, pr...|(1000,[16,53,250,...|(1000,[16,53,250,...|(1000,[16,53,250,...|\n",
      "|Juiz decreta pris...|[juiz, decreta, p...|[juiz, decreta, p...|(1000,[89,288,314...|(1000,[89,288,314...|(1000,[89,288,314...|\n",
      "|Após   anos, exec...|[após, , , anos,,...|[após, , , anos,,...|(1000,[0,3,96,240...|(1000,[0,3,96,240...|(1000,[0,3,96,240...|\n",
      "|Bolsa recua pelo ...|[bolsa, recua, pe...|[bolsa, recua, , ...|(1000,[0,9,11,38,...|(1000,[0,9,11,38,...|(1000,[0,9,11,38,...|\n",
      "|Parlamentarismo p...|[parlamentarismo,...|[parlamentarismo,...|(1000,[0,1,9,19,2...|(1000,[0,1,9,19,2...|(1000,[0,1,9,19,2...|\n",
      "+--------------------+--------------------+--------------------+--------------------+--------------------+--------------------+\n",
      "only showing top 20 rows\n",
      "\n"
     ]
    }
   ],
   "source": [
    "modelo_titulo = pipeline_titulo.fit(titles)\n",
    "title_feature = modelo_titulo.transform(titles)\n",
    "title_feature.show()"
   ]
  },
  {
   "cell_type": "markdown",
   "metadata": {},
   "source": [
    "### Questão 5) Treinamento"
   ]
  },
  {
   "cell_type": "markdown",
   "metadata": {},
   "source": [
    "### Treinamento Modelo KMeans"
   ]
  },
  {
   "cell_type": "code",
   "execution_count": 29,
   "metadata": {},
   "outputs": [],
   "source": [
    "#### Resposta\n",
    "kmeans = KMeans(featuresCol='features').setK(2).setSeed(1)\n",
    "modelo_kmeans = kmeans.fit(text_feature)"
   ]
  },
  {
   "cell_type": "markdown",
   "metadata": {},
   "source": [
    "### Treinamento Modelo BisectingKMeans"
   ]
  },
  {
   "cell_type": "code",
   "execution_count": 30,
   "metadata": {},
   "outputs": [],
   "source": [
    "#### Resposta\n",
    "bkm = BisectingKMeans(featuresCol='features').setK(2).setSeed(1)\n",
    "modelo_bkm = bkm.fit(title_feature)"
   ]
  },
  {
   "cell_type": "markdown",
   "metadata": {},
   "source": [
    "### Questão 6) Previsão\n",
    "\n",
    "mostre um exemplo de previsão"
   ]
  },
  {
   "cell_type": "code",
   "execution_count": 31,
   "metadata": {},
   "outputs": [],
   "source": [
    "predict_kmeans = modelo_kmeans.transform(text_feature)"
   ]
  },
  {
   "cell_type": "code",
   "execution_count": 33,
   "metadata": {},
   "outputs": [],
   "source": [
    "predict_bkm = modelo_bkm.transform(title_feature)"
   ]
  },
  {
   "cell_type": "code",
   "execution_count": 34,
   "metadata": {},
   "outputs": [
    {
     "name": "stdout",
     "output_type": "stream",
     "text": [
      "+--------------------+--------------------+--------------------+--------------------+--------------------+--------------------+----------+\n",
      "|                text|              tokens|   stop_word_removed|        raw_features|        idf_features|            features|prediction|\n",
      "+--------------------+--------------------+--------------------+--------------------+--------------------+--------------------+----------+\n",
      "|\"Com a possibilid...|[\"com, a, possibi...|[\"com, possibilid...|(1000,[0,1,2,4,14...|(1000,[0,1,2,4,14...|(1000,[0,1,2,4,14...|         0|\n",
      "|\"Para Oumou Sanga...|[\"para, oumou, sa...|[\"para, oumou, sa...|(1000,[235,490,54...|(1000,[235,490,54...|(1000,[235,490,54...|         0|\n",
      "|\"Três reportagens...|[\"três, reportage...|[\"três, reportage...|(1000,[0,2,10,12,...|(1000,[0,2,10,12,...|(1000,[0,2,10,12,...|         0|\n",
      "|\"A Disney divulgo...|[\"a, disney, divu...|[\"a, disney, divu...|(1000,[2,6,33,43,...|(1000,[2,6,33,43,...|(1000,[2,6,33,43,...|         0|\n",
      "|\"O CBSS, banco da...|[\"o, cbss,, banco...|[\"o, cbss,, banco...|(1000,[0,5,7,19,9...|(1000,[0,5,7,19,9...|(1000,[0,5,7,19,9...|         0|\n",
      "|\"O vocalista da b...|[\"o, vocalista, d...|[\"o, vocalista, b...|(1000,[0,1,2,3,4,...|(1000,[0,1,2,3,4,...|(1000,[0,1,2,3,4,...|         0|\n",
      "|\"O italiano Cesar...|[\"o, italiano, ce...|[\"o, italiano, ce...|(1000,[0,2,4,6,19...|(1000,[0,2,4,6,19...|(1000,[0,2,4,6,19...|         0|\n",
      "|\"Pela primeira ve...|[\"pela, primeira,...|[\"pela, primeira,...|(1000,[0,15,20,21...|(1000,[0,15,20,21...|(1000,[0,15,20,21...|         0|\n",
      "|\"O STF (Supremo T...|[\"o, stf, (suprem...|[\"o, stf, (suprem...|(1000,[0,1,2,6,11...|(1000,[0,1,2,6,11...|(1000,[0,1,2,6,11...|         0|\n",
      "|\"O aplicativo de ...|[\"o, aplicativo, ...|[\"o, aplicativo, ...|(1000,[0,19,83,87...|(1000,[0,19,83,87...|(1000,[0,19,83,87...|         0|\n",
      "|\"A procuradora-ge...|[\"a, procuradora-...|[\"a, procuradora-...|(1000,[0,2,6,21,3...|(1000,[0,2,6,21,3...|(1000,[0,2,6,21,3...|         0|\n",
      "|\"O governo da Cal...|[\"o, governo, da,...|[\"o, governo, cal...|(1000,[0,2,3,4,6,...|(1000,[0,2,3,4,6,...|(1000,[0,2,3,4,6,...|         0|\n",
      "|\"O presidente do ...|[\"o, presidente, ...|[\"o, presidente, ...|(1000,[0,4,8,11,1...|(1000,[0,4,8,11,1...|(1000,[0,4,8,11,1...|         0|\n",
      "|\"O presidente-exe...|[\"o, presidente-e...|[\"o, presidente-e...|(1000,[0,2,4,6,10...|(1000,[0,2,4,6,10...|(1000,[0,2,4,6,10...|         0|\n",
      "|\"A Volkswagen pro...|[\"a, volkswagen, ...|[\"a, volkswagen, ...|(1000,[0,2,4,5,11...|(1000,[0,2,4,5,11...|(1000,[0,2,4,5,11...|         0|\n",
      "|\"A polícia do Rio...|[\"a, polícia, do,...|[\"a, polícia, rio...|(1000,[0,1,2,3,4,...|(1000,[0,1,2,3,4,...|(1000,[0,1,2,3,4,...|         0|\n",
      "|\"O juiz Marcelo B...|[\"o, juiz, marcel...|[\"o, juiz, marcel...|(1000,[0,1,2,3,4,...|(1000,[0,1,2,3,4,...|(1000,[0,1,2,3,4,...|         0|\n",
      "|\"Cansada depois d...|[\"cansada, depois...|[\"cansada, década...|(1000,[0,2,4,6,9,...|(1000,[0,2,4,6,9,...|(1000,[0,2,4,6,9,...|         1|\n",
      "|\"A Bolsa brasilei...|[\"a, bolsa, brasi...|[\"a, bolsa, brasi...|(1000,[0,1,2,3,4,...|(1000,[0,1,2,3,4,...|(1000,[0,1,2,3,4,...|         1|\n",
      "|\"\"\"Estou convenci...|[\"\"\"estou, conven...|[\"\"\"estou, conven...|(1000,[8,141,324]...|(1000,[8,141,324]...|(1000,[8,141,324]...|         0|\n",
      "+--------------------+--------------------+--------------------+--------------------+--------------------+--------------------+----------+\n",
      "only showing top 20 rows\n",
      "\n"
     ]
    }
   ],
   "source": [
    "predict_kmeans.show()"
   ]
  },
  {
   "cell_type": "code",
   "execution_count": 35,
   "metadata": {},
   "outputs": [
    {
     "name": "stdout",
     "output_type": "stream",
     "text": [
      "+--------------------+--------------------+--------------------+--------------------+--------------------+--------------------+----------+\n",
      "|               title|              tokens|   stop_word_removed|        raw_features|        idf_features|            features|prediction|\n",
      "+--------------------+--------------------+--------------------+--------------------+--------------------+--------------------+----------+\n",
      "|Lula diz que está...|[lula, diz, que, ...|[lula, diz, 'lasc...|(1000,[1,31,96,31...|(1000,[1,31,96,31...|(1000,[1,31,96,31...|         0|\n",
      "|'Decidi ser escra...|['decidi, ser, es...|['decidi, ser, es...|(1000,[1,21,187],...|(1000,[1,21,187],...|(1000,[1,21,187],...|         0|\n",
      "|Três reportagens ...|[três, reportagen...|[três, reportagen...|(1000,[42,79,86,1...|(1000,[42,79,86,1...|(1000,[42,79,86,1...|         0|\n",
      "|Filme 'Star Wars:...|[filme, 'star, wa...|[filme, 'star, wa...|(1000,[73,118],[1...|(1000,[73,118],[5...|(1000,[73,118],[1...|         0|\n",
      "|CBSS inicia acord...|[cbss, inicia, ac...|[cbss, inicia, ac...|(1000,[0,13,29,40...|(1000,[0,13,29,40...|(1000,[0,13,29,40...|         1|\n",
      "|Em encontro, Bono...|[em, encontro,, b...|[encontro,, bono,...|(1000,[2,679,988]...|(1000,[2,679,988]...|(1000,[2,679,988]...|         0|\n",
      "|Posso sair do Bra...|[posso, sair, do,...|[posso, sair, bra...|(1000,[1,5,619],[...|(1000,[1,5,619],[...|(1000,[1,5,619],[...|         0|\n",
      "|Tite diz querer s...|[tite, diz, quere...|[tite, diz, quere...|(1000,[1,3,119,14...|(1000,[1,3,119,14...|(1000,[1,3,119,14...|         0|\n",
      "|Supremo nega pedi...|[supremo, nega, p...|[supremo, nega, p...|(1000,[54,104,128...|(1000,[54,104,128...|(1000,[54,104,128...|         0|\n",
      "|Em teste, WhatsAp...|[em, teste,, what...|[teste,, whatsapp...|(1000,[81,946],[1...|(1000,[81,946],[5...|(1000,[81,946],[1...|         0|\n",
      "|Dodge defende man...|[dodge, defende, ...|[dodge, defende, ...|(1000,[110,325,38...|(1000,[110,325,38...|(1000,[110,325,38...|         0|\n",
      "|Incêndios deixam ...|[incêndios, deixa...|[incêndios, deixa...|(1000,[0,127,414,...|(1000,[0,127,414,...|(1000,[0,127,414,...|         1|\n",
      "|BNDES descarta ir...|[bndes, descarta,...|[bndes, descarta,...|(1000,[395,485],[...|(1000,[395,485],[...|(1000,[395,485],[...|         0|\n",
      "|Apple cita fornec...|[apple, cita, for...|[apple, cita, for...|(1000,[105,494,55...|(1000,[105,494,55...|(1000,[105,494,55...|         0|\n",
      "|Volkswagen terá c...|[volkswagen, terá...|[volkswagen, cres...|(1000,[0,1,13,20,...|(1000,[0,1,13,20,...|(1000,[0,1,13,20,...|         0|\n",
      "|Polícia do Rio pr...|[polícia, do, rio...|[polícia, rio, pr...|(1000,[16,53,250,...|(1000,[16,53,250,...|(1000,[16,53,250,...|         0|\n",
      "|Juiz decreta pris...|[juiz, decreta, p...|[juiz, decreta, p...|(1000,[89,288,314...|(1000,[89,288,314...|(1000,[89,288,314...|         0|\n",
      "|Após   anos, exec...|[após, , , anos,,...|[após, , , anos,,...|(1000,[0,3,96,240...|(1000,[0,3,96,240...|(1000,[0,3,96,240...|         0|\n",
      "|Bolsa recua pelo ...|[bolsa, recua, pe...|[bolsa, recua, , ...|(1000,[0,9,11,38,...|(1000,[0,9,11,38,...|(1000,[0,9,11,38,...|         1|\n",
      "|Parlamentarismo p...|[parlamentarismo,...|[parlamentarismo,...|(1000,[0,1,9,19,2...|(1000,[0,1,9,19,2...|(1000,[0,1,9,19,2...|         0|\n",
      "+--------------------+--------------------+--------------------+--------------------+--------------------+--------------------+----------+\n",
      "only showing top 20 rows\n",
      "\n"
     ]
    }
   ],
   "source": [
    "predict_bkm.show()"
   ]
  },
  {
   "cell_type": "markdown",
   "metadata": {},
   "source": [
    "### Questão 7) Avalie os resultados\n",
    "\n",
    "Exiba precisão, acurácia, f1 score, recall\n",
    "\n",
    "Faça considerações sobre os resultados"
   ]
  },
  {
   "cell_type": "code",
   "execution_count": 36,
   "metadata": {},
   "outputs": [
    {
     "name": "stdout",
     "output_type": "stream",
     "text": [
      "+----------+------+\n",
      "|prediction| count|\n",
      "+----------+------+\n",
      "|         1| 29177|\n",
      "|         0|138456|\n",
      "+----------+------+\n",
      "\n",
      "Silhueta com distância euclidiana quadrada: 0.5171641224284369\n",
      "Soma Quadratica dos Erros: 164983646.26374057\n"
     ]
    }
   ],
   "source": [
    "#### Resposta\n",
    "predict_kmeans.groupby('prediction').count().show()\n",
    "evaluator = ClusteringEvaluator()\n",
    "silhouette = evaluator.evaluate(predict_kmeans)\n",
    "print(\"Silhueta com distância euclidiana quadrada: \" + str(silhouette))\n",
    "print(\"Soma Quadratica dos Erros: \" + str(modelo_kmeans.summary.trainingCost))"
   ]
  },
  {
   "cell_type": "code",
   "execution_count": 37,
   "metadata": {},
   "outputs": [
    {
     "name": "stdout",
     "output_type": "stream",
     "text": [
      "Cluster Centers: \n",
      "[0.40941598 0.18463789 0.45606087 0.16120379 0.4671416  0.08581994\n",
      " 0.36501001 0.10557468 0.24401348 0.2985665  0.27415502 0.28611622\n",
      " 0.07787795 0.19127515 0.28123325 0.21379892 0.1638776  0.23070265\n",
      " 0.09971829 0.50689894 0.25430655 0.23052549 0.16627634 0.21902514\n",
      " 0.24050439 0.20994619 0.18240684 0.16076921 0.19716753 0.22518119\n",
      " 0.17530674 0.1502814  0.19679337 0.3983778  0.18043046 0.24410745\n",
      " 0.17168445 0.1621954  0.17207578 0.09942958 0.17916416 0.18284365\n",
      " 0.16789537 0.24139902 0.12707382 0.15385952 0.17846905 0.14712997\n",
      " 0.16800221 0.18137875 0.25414179 0.16075751 0.17196394 0.16800356\n",
      " 0.21668423 0.1626732  0.15104709 0.18053689 0.13419846 0.15309955\n",
      " 0.15468027 0.16534417 0.16737051 0.13860973 0.22449035 0.15994352\n",
      " 0.15091021 0.20164686 0.17430875 0.14315502 0.16331762 0.17658486\n",
      " 0.15907307 0.13913013 0.15972429 0.16477737 0.16705227 0.16986724\n",
      " 0.16811403 0.13603177 0.12082839 0.14765177 0.14687968 0.15649301\n",
      " 0.23912325 0.17042512 0.17022207 0.10348188 0.12899558 0.16744772\n",
      " 0.09706063 0.06324182 0.11579415 0.03859    0.06815285 0.15472017\n",
      " 0.12325849 0.15278469 0.08942814 0.23447311 0.03252511 0.14508775\n",
      " 0.1629161  0.14764826 0.23592878 0.15905142 0.12099457 0.11765834\n",
      " 0.11567461 0.13180571 0.14567888 0.12845744 0.1041817  0.10987676\n",
      " 0.22569937 0.11922173 0.1079988  0.04493631 0.08610204 0.0609873\n",
      " 0.14990351 0.14267621 0.06368256 0.1242757  0.12467331 0.05640181\n",
      " 0.19966923 0.09210591 0.13510163 0.09702463 0.14112824 0.12193917\n",
      " 0.15004384 0.13288628 0.10903363 0.08166267 0.11553849 0.21983119\n",
      " 0.1479771  0.21515388 0.11260122 0.1351795  0.10224265 0.11791255\n",
      " 0.14831684 0.16053397 0.13297888 0.15596914 0.13647783 0.08497569\n",
      " 0.15004861 0.07243366 0.12884522 0.13138444 0.08047213 0.11647202\n",
      " 0.12445531 0.08394992 0.13220854 0.12699889 0.24461447 0.11510575\n",
      " 0.11867097 0.12270126 0.12965588 0.13028403 0.08543805 0.16169599\n",
      " 0.08033566 0.10834981 0.11662156 0.13035591 0.06553177 0.06031913\n",
      " 0.10308365 0.0708367  0.13009234 0.11880384 0.07714316 0.0733515\n",
      " 0.18671859 0.08913338 0.0971331  0.0992996  0.11259813 0.10343534\n",
      " 0.09042892 0.13693801 0.09970138 0.07874522 0.07216668 0.09009432\n",
      " 0.0922715  0.14612146 0.08578177 0.1173799  0.12008701 0.22855251\n",
      " 0.13674521 0.12332245 0.10659674 0.12515984 0.09248831 0.13346693\n",
      " 0.11067382 0.11548686 0.11041316 0.12253082 0.12563162 0.13562028\n",
      " 0.07088404 0.12427729 0.10894378 0.11994833 0.15046366 0.10829608\n",
      " 0.11128407 0.09215976 0.1445052  0.10153511 0.09284382 0.08351032\n",
      " 0.09026608 0.09265685 0.08408085 0.09357363 0.15630196 0.13459267\n",
      " 0.14046539 0.08796207 0.09904785 0.06857363 0.07911201 0.12863953\n",
      " 0.14862908 0.10223875 0.12136903 0.10450157 0.11159478 0.13952105\n",
      " 0.11483098 0.1031874  0.03298604 0.12377496 0.11357846 0.05435771\n",
      " 0.10771784 0.1087794  0.10567623 0.10885978 0.11485104 0.10540957\n",
      " 0.09327408 0.10485065 0.09902568 0.10086653 0.09028047 0.09409225\n",
      " 0.1328198  0.0966654  0.08994051 0.09647611 0.04938152 0.14449441\n",
      " 0.07313856 0.08991416 0.10205834 0.0980174  0.11642159 0.10459852\n",
      " 0.12745564 0.03203684 0.09606142 0.08898819 0.08889137 0.12426902\n",
      " 0.12485032 0.08245445 0.10227829 0.14900034 0.08399012 0.11980845\n",
      " 0.04346048 0.12935064 0.06098477 0.04893053 0.10950808 0.09054908\n",
      " 0.10935324 0.1051806  0.10062508 0.09897597 0.0930418  0.10309768\n",
      " 0.06153724 0.07993325 0.08060704 0.15662641 0.11196961 0.08085168\n",
      " 0.12839457 0.07855818 0.08404354 0.1102653  0.09377144 0.10857633\n",
      " 0.07028975 0.10032108 0.09919509 0.09125644 0.08876377 0.07535591\n",
      " 0.06901947 0.08294963 0.13808998 0.10978229 0.08272299 0.13516578\n",
      " 0.05945574 0.13824615 0.09225292 0.07435954 0.03102776 0.11181479\n",
      " 0.07986354 0.07974138 0.09197396 0.11828112 0.09176555 0.09178891\n",
      " 0.09662661 0.08795613 0.06474575 0.08188846 0.10400191 0.0612355\n",
      " 0.10744091 0.09322992 0.08871913 0.11026355 0.10082562 0.09864625\n",
      " 0.10430208 0.09465239 0.07241759 0.07741776 0.09900381 0.07621755\n",
      " 0.08953201 0.11486222 0.08868998 0.06280579 0.06616056 0.08765379\n",
      " 0.02457745 0.06928981 0.06077464 0.05630269 0.09212601 0.08391751\n",
      " 0.09819431 0.10400199 0.04450151 0.06656587 0.07574917 0.11475668\n",
      " 0.11264018 0.07892733 0.04363833 0.04762981 0.08644484 0.08469331\n",
      " 0.06566113 0.09927911 0.09456324 0.07428652 0.06430405 0.10329892\n",
      " 0.08484311 0.07480818 0.09200165 0.10616674 0.04762257 0.09466185\n",
      " 0.0920951  0.09173165 0.08565569 0.10340636 0.11949409 0.07128244\n",
      " 0.10577793 0.04083637 0.10892379 0.02635323 0.07623717 0.10423943\n",
      " 0.10346342 0.0842457  0.10123912 0.07354065 0.10224989 0.10055127\n",
      " 0.02662295 0.10142225 0.0938593  0.08368962 0.18194545 0.09387791\n",
      " 0.09281406 0.05045685 0.08156038 0.06175702 0.07251614 0.09502759\n",
      " 0.09604471 0.06632368 0.03503334 0.08714387 0.06347558 0.0820583\n",
      " 0.0718132  0.10877219 0.17183297 0.08767417 0.1025511  0.06027097\n",
      " 0.071541   0.11569006 0.09867373 0.06587738 0.08340621 0.08508103\n",
      " 0.09405032 0.07326169 0.11151348 0.08497114 0.10106017 0.08920292\n",
      " 0.05179028 0.04808905 0.08959951 0.08910996 0.08124662 0.10635977\n",
      " 0.0512669  0.06912278 0.08534227 0.09941848 0.07920957 0.09740679\n",
      " 0.11202049 0.07865827 0.10667359 0.06618532 0.06545912 0.06989195\n",
      " 0.07953341 0.06322647 0.12128198 0.08111817 0.09612283 0.05277831\n",
      " 0.08783415 0.10942923 0.07396784 0.08858193 0.12456577 0.1771192\n",
      " 0.09157225 0.09570139 0.07042654 0.08451385 0.08087264 0.0975301\n",
      " 0.0653978  0.09646957 0.0729286  0.07800466 0.07179008 0.05320476\n",
      " 0.1019138  0.11382929 0.06456584 0.07479531 0.0762282  0.08169447\n",
      " 0.08208837 0.09199503 0.11387613 0.06588037 0.10258366 0.08578267\n",
      " 0.06705677 0.08158782 0.06758708 0.07771729 0.05306275 0.10168888\n",
      " 0.09548555 0.07307505 0.03395277 0.08856291 0.05721802 0.0912084\n",
      " 0.09831794 0.07701199 0.07703895 0.07154239 0.06317038 0.05761129\n",
      " 0.07060865 0.09005079 0.05798974 0.09941064 0.08261491 0.08703242\n",
      " 0.10570767 0.07960485 0.05761015 0.08278729 0.09533124 0.03322619\n",
      " 0.08782809 0.07215879 0.04632861 0.06781873 0.07348226 0.09402043\n",
      " 0.07133653 0.05350938 0.0404826  0.06921179 0.03543154 0.10742957\n",
      " 0.08099346 0.03572532 0.06328087 0.09722818 0.05175052 0.08701849\n",
      " 0.04952243 0.09260713 0.07215459 0.0946338  0.10659112 0.08047964\n",
      " 0.05004408 0.12120198 0.08744277 0.0734066  0.05136297 0.06577076\n",
      " 0.08812409 0.08124294 0.08466805 0.14859669 0.09368737 0.05835286\n",
      " 0.05942854 0.09090541 0.08164712 0.07003527 0.07885812 0.08203014\n",
      " 0.08735308 0.07163413 0.06975693 0.13345009 0.09060664 0.07794622\n",
      " 0.0631534  0.06333253 0.08604971 0.08037375 0.0915178  0.06245817\n",
      " 0.05877047 0.07720629 0.05830207 0.05811464 0.08931255 0.08371411\n",
      " 0.05881667 0.10417632 0.06979476 0.07016989 0.10583281 0.06229294\n",
      " 0.08384085 0.06960865 0.06455668 0.07923968 0.07891961 0.09916997\n",
      " 0.06094256 0.07038526 0.05055824 0.06812944 0.09276394 0.08271948\n",
      " 0.06511632 0.08411517 0.07192547 0.04453015 0.09196943 0.0904342\n",
      " 0.08276293 0.07745054 0.08604823 0.06034685 0.08395565 0.07856575\n",
      " 0.05300009 0.09035517 0.0859789  0.09014586 0.09616983 0.11220518\n",
      " 0.07907702 0.08138327 0.03748313 0.08348263 0.11185735 0.08028957\n",
      " 0.08619322 0.06540355 0.06745915 0.07660345 0.0394974  0.03001412\n",
      " 0.08424505 0.08258622 0.0520211  0.07276368 0.08974777 0.05842654\n",
      " 0.10657814 0.07098194 0.06342398 0.08484563 0.03327648 0.06339187\n",
      " 0.06619665 0.07263831 0.08647191 0.06838209 0.02512694 0.04658392\n",
      " 0.0955586  0.072517   0.11340787 0.09367908 0.08694403 0.07063068\n",
      " 0.08798663 0.08841555 0.03722355 0.14120752 0.04717445 0.05223279\n",
      " 0.07984214 0.08913339 0.04481828 0.08433025 0.08495464 0.09009182\n",
      " 0.07070015 0.09252671 0.08970212 0.08394132 0.04426458 0.07165277\n",
      " 0.05467647 0.09715759 0.06861585 0.07816358 0.0860977  0.06939774\n",
      " 0.06652569 0.0720298  0.06108168 0.09650214 0.06591141 0.05115461\n",
      " 0.05369412 0.08541152 0.06654613 0.07672081 0.08398971 0.07271366\n",
      " 0.0252165  0.02069823 0.08487991 0.05590989 0.07868695 0.14123013\n",
      " 0.07471447 0.0647512  0.03280496 0.05395941 0.08616332 0.0593525\n",
      " 0.06599432 0.06425577 0.04398449 0.10913276 0.07578393 0.08893262\n",
      " 0.06070679 0.04084927 0.06053681 0.0905198  0.10088263 0.06527244\n",
      " 0.09870822 0.0949778  0.08288074 0.06703871 0.05056569 0.07566089\n",
      " 0.05549242 0.07820679 0.04136114 0.09699149 0.0751776  0.07217604\n",
      " 0.05969194 0.08160982 0.08967144 0.10668615 0.07463748 0.06534186\n",
      " 0.07810799 0.12523733 0.070624   0.12427476 0.06614303 0.05241907\n",
      " 0.0629944  0.09285164 0.07442815 0.11415094 0.12752654 0.05914786\n",
      " 0.07319131 0.06373014 0.09812618 0.06800961 0.06423519 0.07622334\n",
      " 0.08296459 0.06383221 0.08614221 0.05810775 0.06079024 0.09357879\n",
      " 0.07592195 0.06471532 0.05679113 0.0813251  0.02754094 0.06920224\n",
      " 0.07117826 0.05759607 0.06874461 0.04089115 0.06547656 0.05789272\n",
      " 0.0733765  0.05919676 0.07131917 0.07287931 0.07971219 0.08064137\n",
      " 0.08547737 0.07638572 0.10513529 0.07666904 0.07696738 0.03655369\n",
      " 0.07694126 0.05526542 0.06842203 0.07533341 0.06248443 0.06462531\n",
      " 0.05540382 0.07829297 0.06382954 0.0431772  0.07615945 0.04106296\n",
      " 0.07548032 0.06646231 0.07356895 0.1085476  0.07139431 0.06090973\n",
      " 0.07352965 0.07279878 0.0461923  0.06050807 0.08383288 0.05852858\n",
      " 0.06381727 0.0738264  0.0756996  0.07556837 0.0681527  0.05968673\n",
      " 0.08515323 0.06549279 0.05468847 0.08068993 0.03871177 0.06388724\n",
      " 0.06008659 0.06976656 0.06483205 0.06876033 0.06056831 0.05486279\n",
      " 0.06611737 0.07443423 0.07677067 0.05187    0.10394987 0.07889737\n",
      " 0.08661418 0.05987503 0.04154113 0.0669995  0.06785406 0.07886442\n",
      " 0.06095029 0.08904286 0.07095502 0.04707315 0.05292654 0.0811617\n",
      " 0.06482754 0.06070431 0.06559294 0.07959674 0.04749419 0.07099033\n",
      " 0.04842495 0.05813268 0.08171302 0.0855253  0.09279055 0.07924971\n",
      " 0.06708359 0.06134826 0.06072655 0.06203039 0.05512856 0.04909029\n",
      " 0.05874756 0.03197717 0.03835099 0.07072307 0.06970904 0.0826428\n",
      " 0.04269599 0.05846312 0.12112906 0.07128319 0.04957174 0.06492122\n",
      " 0.06935767 0.07559786 0.08012206 0.07113721 0.0769418  0.06952481\n",
      " 0.04224437 0.06811382 0.02225835 0.07935842 0.07560189 0.07792561\n",
      " 0.10335579 0.06200479 0.03213808 0.05680205 0.0781004  0.04004287\n",
      " 0.06408358 0.07255627 0.04168704 0.07235897 0.07667682 0.06943481\n",
      " 0.06470582 0.07146703 0.06832616 0.07998307 0.06014977 0.05399078\n",
      " 0.0725896  0.05940083 0.02879711 0.04559204 0.07649831 0.05667237\n",
      " 0.09355858 0.07959972 0.07296097 0.0842555  0.04668497 0.06841586\n",
      " 0.06202442 0.05761746 0.06642474 0.07142555 0.06336443 0.10916866\n",
      " 0.04412609 0.08220768 0.05993257 0.06318831 0.07518234 0.06783412\n",
      " 0.06870382 0.0766839  0.04888816 0.07339864 0.0875455  0.07471046\n",
      " 0.06651683 0.06894246 0.06033286 0.05920037 0.04841009 0.06556405\n",
      " 0.05812004 0.04619984 0.04588876 0.0747586  0.06481065 0.06644494\n",
      " 0.05935385 0.03384371 0.05451763 0.06292868 0.08135663 0.07722133\n",
      " 0.04244606 0.05057121 0.05625176 0.05159107 0.08443411 0.11263265\n",
      " 0.03871832 0.03466533 0.06085628 0.0830937  0.06199487 0.06589022\n",
      " 0.06228828 0.0682072  0.06817288 0.04892677 0.03689402 0.04425034\n",
      " 0.05927318 0.08073611 0.0730021  0.05460829 0.12848355 0.07356628\n",
      " 0.05269231 0.08081663 0.05693911 0.08475499 0.05664935 0.07042739\n",
      " 0.05642302 0.05636009 0.06154375 0.09041189 0.02826521 0.05067468\n",
      " 0.05072931 0.05083204 0.06002301 0.07402479 0.09802505 0.07542398\n",
      " 0.04908197 0.09412973 0.06328549 0.01919041 0.04615515 0.06831822\n",
      " 0.07356199 0.06719936 0.07520802 0.05405835]\n",
      "[1.93886093 1.22341951 1.06539395 0.87266732 0.9085079  0.98684625\n",
      " 0.60856016 0.77456777 1.23180055 1.12011995 0.96897197 0.77461257\n",
      " 0.37694799 0.95678524 0.65537831 1.24460757 1.01482692 0.77508712\n",
      " 0.2208215  0.2852384  0.85566993 0.91132148 0.57272562 0.89545619\n",
      " 0.61168421 0.7234057  0.71612529 0.91250679 0.95352741 0.75231687\n",
      " 0.72025187 0.98328107 0.70670374 0.27624097 0.62794706 0.57845027\n",
      " 0.78604365 0.96229954 0.88515222 0.66440911 0.65694929 0.84163889\n",
      " 0.78734096 0.55393536 0.64516408 0.93374653 0.73855429 0.80374314\n",
      " 0.51519538 0.69447592 0.39119061 0.55000932 0.57365628 0.57330539\n",
      " 0.55343795 0.80686402 0.76653754 0.56287429 0.54292354 0.70312482\n",
      " 0.71562866 0.61978604 0.71541886 0.8019036  0.39319198 0.49033164\n",
      " 0.64138858 0.49252857 0.50689063 0.74728718 0.6540803  0.35027484\n",
      " 0.63095702 0.55807952 0.73599172 0.45622458 0.61730948 0.59765574\n",
      " 0.44313889 0.56773886 0.71610273 0.56178968 0.64923087 0.69124998\n",
      " 0.44068497 0.61758247 0.58088399 0.59555895 0.33173861 0.63210072\n",
      " 0.34083508 0.42684513 0.5879166  0.17062017 0.12880578 0.64993735\n",
      " 0.72370958 0.55860846 0.65236825 0.39773906 0.5776659  0.55345436\n",
      " 0.56505507 0.51901919 0.35988512 0.4878273  0.54330752 0.55602008\n",
      " 0.62275046 0.57392642 0.62209761 0.68769713 0.72860847 0.65713057\n",
      " 0.30783609 0.41078705 0.61800524 0.69549585 0.52440699 0.50178253\n",
      " 0.58864301 0.60234539 0.66364915 0.56164905 0.47447593 0.60831556\n",
      " 0.33060435 0.53992609 0.66519409 0.74140194 0.45668466 0.7199188\n",
      " 0.45467332 0.65648888 0.41879854 0.53889727 0.65848884 0.35038885\n",
      " 0.58174763 0.35392551 0.60450785 0.50882147 0.56789339 0.68198628\n",
      " 0.48244141 0.43597615 0.62204594 0.53081342 0.51159305 0.54448867\n",
      " 0.41334894 0.63982461 0.61940793 0.59260239 0.46781616 0.57236778\n",
      " 0.60986671 0.61930943 0.58566011 0.55172749 0.16690433 0.65152048\n",
      " 0.44969616 0.60217614 0.50089129 0.4755277  0.52727194 0.44433437\n",
      " 0.5689646  0.4314226  0.59082389 0.54060243 0.59688226 0.59233143\n",
      " 0.49049422 0.57566703 0.3502956  0.55308327 0.58252236 0.47626971\n",
      " 0.29735448 0.67835772 0.52026844 0.4971904  0.64469234 0.4079708\n",
      " 0.45127422 0.39677393 0.68826054 0.64085788 0.50069215 0.47365448\n",
      " 0.51276718 0.47491377 0.47498864 0.55756763 0.56627814 0.16536713\n",
      " 0.38797011 0.37489394 0.66266808 0.39193424 0.33014847 0.51480957\n",
      " 0.49404022 0.44092744 0.51412426 0.50331722 0.50586937 0.32050454\n",
      " 0.49962244 0.46783438 0.53561181 0.52772087 0.39461029 0.50914017\n",
      " 0.43363945 0.62602479 0.35993138 0.4070638  0.64507418 0.55391972\n",
      " 0.45896563 0.27855689 0.44604691 0.52741788 0.39585223 0.39709288\n",
      " 0.34494733 0.33567026 0.49623502 0.35183146 0.3023966  0.3418283\n",
      " 0.36078621 0.54871632 0.44545451 0.33416049 0.54646166 0.27821778\n",
      " 0.39083115 0.55579555 0.50203086 0.46618305 0.52193191 0.40425441\n",
      " 0.32934291 0.35672061 0.5299955  0.35269509 0.46798137 0.52370048\n",
      " 0.53539255 0.53219428 0.51746796 0.57322673 0.32297149 0.49180749\n",
      " 0.42603995 0.51484772 0.43920843 0.52344239 0.5110095  0.33133113\n",
      " 0.36557804 0.53021768 0.41417669 0.41699084 0.46715617 0.48206438\n",
      " 0.3057429  0.4780654  0.49722001 0.52794258 0.48588428 0.3335759\n",
      " 0.35945029 0.4946753  0.43110901 0.28025947 0.47812991 0.36393381\n",
      " 0.44828397 0.32688646 0.3002554  0.01270547 0.46856816 0.4940763\n",
      " 0.47791257 0.49495668 0.39396154 0.35041557 0.35017387 0.48134973\n",
      " 0.35366172 0.18274471 0.48852325 0.27072324 0.36045136 0.36392529\n",
      " 0.38563336 0.5344343  0.45697313 0.31759865 0.40248676 0.42314879\n",
      " 0.45195993 0.49717094 0.2850158  0.26877435 0.30687406 0.4169252\n",
      " 0.49020985 0.52217293 0.31115006 0.34770545 0.48162579 0.3227201\n",
      " 0.53115676 0.29831638 0.4697413  0.43214629 0.14408121 0.35999733\n",
      " 0.53499587 0.53213286 0.49987541 0.41807271 0.36246976 0.28921378\n",
      " 0.31657819 0.48090417 0.51434735 0.52481886 0.41113938 0.14789713\n",
      " 0.43400096 0.46661704 0.50802742 0.31911567 0.40487115 0.30735183\n",
      " 0.42675313 0.4913523  0.4285101  0.3269283  0.42620707 0.39136846\n",
      " 0.37527189 0.29810557 0.52077605 0.48428909 0.30648433 0.44368763\n",
      " 0.3825219  0.59233065 0.35263827 0.56417645 0.44525495 0.45492336\n",
      " 0.31121964 0.41518592 0.41967509 0.36584118 0.39156103 0.28458169\n",
      " 0.40133821 0.35791349 0.21386608 0.49446381 0.3900497  0.33238374\n",
      " 0.58727867 0.45604214 0.27537117 0.29194122 0.61263504 0.3477491\n",
      " 0.32902575 0.51595088 0.35081043 0.25592017 0.30232662 0.45214604\n",
      " 0.30922667 0.22884975 0.46715865 0.40644388 0.30521909 0.44256437\n",
      " 0.3785999  0.45542495 0.37451574 0.37038466 0.53433915 0.2514784\n",
      " 0.31155231 0.34726734 0.37704139 0.45656625 0.34559659 0.37475853\n",
      " 0.39707211 0.41490466 0.3594982  0.29468172 0.08868034 0.44593053\n",
      " 0.40786827 0.39476824 0.47111463 0.20392002 0.35138357 0.39920431\n",
      " 0.31151183 0.43179082 0.41034417 0.44537934 0.56447766 0.49782349\n",
      " 0.35463833 0.2771631  0.11480509 0.46159392 0.31962639 0.3070754\n",
      " 0.5265331  0.21106439 0.3501582  0.4770732  0.42372828 0.45299917\n",
      " 0.41581451 0.5199785  0.28225385 0.44022542 0.32153564 0.30280627\n",
      " 0.29442371 0.28918834 0.41944519 0.35899788 0.4294102  0.24411928\n",
      " 0.39195113 0.33067954 0.43316499 0.39408777 0.41288906 0.40377875\n",
      " 0.33750133 0.33279553 0.25308301 0.47842426 0.4645453  0.33008473\n",
      " 0.40963861 0.42165118 0.29607048 0.38214363 0.32250288 0.37127684\n",
      " 0.42548791 0.31796448 0.29111409 0.43446975 0.1814754  0.06365297\n",
      " 0.29528654 0.36147813 0.21792887 0.31089216 0.46119651 0.25464996\n",
      " 0.38870412 0.30981595 0.38093235 0.43749178 0.43855586 0.3031609\n",
      " 0.24699077 0.23243464 0.4899763  0.39395013 0.41776816 0.36503746\n",
      " 0.32264923 0.33516257 0.2792482  0.44540427 0.20586172 0.28194855\n",
      " 0.42393343 0.31920298 0.15940141 0.31384414 0.50746608 0.34413178\n",
      " 0.37699919 0.41356228 0.40415945 0.2822355  0.41433897 0.37858869\n",
      " 0.28525946 0.43540459 0.15689179 0.37978142 0.38717652 0.34285017\n",
      " 0.30504764 0.32739967 0.4848866  0.29020067 0.42041425 0.32360109\n",
      " 0.15865821 0.2905269  0.39343436 0.31848963 0.28773414 0.37763967\n",
      " 0.25547225 0.34442082 0.43260402 0.4525441  0.32006652 0.2242071\n",
      " 0.32858261 0.46667016 0.30231478 0.28743822 0.46841379 0.20645824\n",
      " 0.39661801 0.35318478 0.30404627 0.26331863 0.41548951 0.31614799\n",
      " 0.4425804  0.17727838 0.21004343 0.29396474 0.28569489 0.27941321\n",
      " 0.35640733 0.26456563 0.35976484 0.3680945  0.38722758 0.46655357\n",
      " 0.371006   0.40614232 0.36986055 0.07321559 0.28050587 0.45988061\n",
      " 0.33751946 0.35995498 0.39005166 0.29553199 0.38969968 0.30835794\n",
      " 0.31266369 0.34558683 0.22452173 0.1556397  0.34212903 0.30070933\n",
      " 0.44770098 0.36650534 0.23181482 0.27713858 0.28883074 0.39726075\n",
      " 0.33704881 0.2761325  0.31662815 0.30833671 0.33729455 0.33892465\n",
      " 0.45292398 0.21766631 0.39771014 0.32881054 0.16473792 0.38115729\n",
      " 0.37194717 0.20186983 0.42113173 0.27149972 0.33130617 0.14238198\n",
      " 0.01140691 0.37778047 0.42808033 0.33648029 0.21413132 0.30052239\n",
      " 0.40595561 0.25941351 0.22685136 0.4027684  0.32310052 0.22329853\n",
      " 0.23212493 0.3862135  0.33650175 0.42210867 0.31147367 0.28542069\n",
      " 0.3315207  0.32333619 0.28507991 0.29054262 0.17783598 0.19865678\n",
      " 0.33131797 0.37947771 0.34023238 0.23221328 0.18249429 0.1574047\n",
      " 0.32621602 0.41748259 0.37755065 0.3716903  0.40662743 0.36549583\n",
      " 0.3739802  0.24563439 0.40588655 0.25699648 0.28309079 0.39741984\n",
      " 0.2610355  0.35025772 0.43846946 0.33676234 0.29017202 0.37591028\n",
      " 0.31869892 0.34107661 0.3109078  0.21835489 0.30957907 0.43978895\n",
      " 0.23791354 0.34202241 0.14898318 0.23473732 0.29470028 0.2224594\n",
      " 0.29880008 0.30163536 0.32299475 0.11371274 0.28966535 0.45464149\n",
      " 0.35175918 0.26631362 0.29033701 0.3241645  0.32956093 0.23403647\n",
      " 0.38835959 0.28949906 0.33290233 0.28069565 0.41234199 0.25831844\n",
      " 0.37233363 0.23338339 0.22161277 0.26383029 0.31593814 0.4160593\n",
      " 0.39260448 0.35459139 0.40958888 0.27542685 0.34085862 0.27418244\n",
      " 0.329679   0.30263066 0.344697   0.2038836  0.34104285 0.28120153\n",
      " 0.12058942 0.38054257 0.24022081 0.36719816 0.2972052  0.09821249\n",
      " 0.29622964 0.41050615 0.43515156 0.42594934 0.25728463 0.43268576\n",
      " 0.32912137 0.25078633 0.43808876 0.17590031 0.32330203 0.27080091\n",
      " 0.2232837  0.27216846 0.32754226 0.30123832 0.23428836 0.39986783\n",
      " 0.23565983 0.26105195 0.21027726 0.35630622 0.34838199 0.28620796\n",
      " 0.3850624  0.34731256 0.35126463 0.21138935 0.31067638 0.32892281\n",
      " 0.31244219 0.32850046 0.2034451  0.14932269 0.24317691 0.23451874\n",
      " 0.31143626 0.09771989 0.36572138 0.13055867 0.26634002 0.23999238\n",
      " 0.02366859 0.27789056 0.2901151  0.18229024 0.05079253 0.42788708\n",
      " 0.36210026 0.24256959 0.24746962 0.37415347 0.31241548 0.33531423\n",
      " 0.29303573 0.29651529 0.2740233  0.29076111 0.24798052 0.2271342\n",
      " 0.31152649 0.31740192 0.32371705 0.26383995 0.37498781 0.23579734\n",
      " 0.23261603 0.24991373 0.35643425 0.20381876 0.37593183 0.29475837\n",
      " 0.33213852 0.39047515 0.30196602 0.31519767 0.23142944 0.17646378\n",
      " 0.21161388 0.33445782 0.18529936 0.31347381 0.288546   0.38301636\n",
      " 0.27622909 0.26640316 0.33128568 0.27162627 0.20515488 0.18549974\n",
      " 0.24416103 0.28098599 0.3339669  0.34994332 0.22473997 0.38364145\n",
      " 0.31960117 0.33069085 0.29967652 0.19501779 0.25618768 0.38771474\n",
      " 0.30743007 0.32420539 0.3552081  0.21042589 0.17152248 0.40152354\n",
      " 0.26802069 0.32445239 0.30584518 0.3221881  0.34159229 0.37677476\n",
      " 0.26265084 0.17037194 0.25122081 0.31138695 0.31632071 0.30625994\n",
      " 0.39615395 0.33598752 0.28010607 0.33676267 0.21419623 0.38657551\n",
      " 0.36299998 0.33691049 0.25734344 0.23476099 0.21790557 0.30811032\n",
      " 0.25226367 0.32521098 0.40367192 0.33177655 0.2748542  0.30866147\n",
      " 0.3115772  0.25257784 0.22045798 0.34858977 0.38512885 0.1825137\n",
      " 0.20496006 0.35204348 0.30013114 0.18422184 0.35542639 0.32224771\n",
      " 0.04744107 0.36233544 0.26847838 0.27306084 0.16801337 0.30871185\n",
      " 0.30295484 0.19801257 0.3726677  0.38101457 0.23025546 0.35502841\n",
      " 0.38010454 0.28206634 0.13602811 0.34734878 0.27630038 0.25322468\n",
      " 0.34477819 0.36270287 0.10945256 0.20681539 0.25241585 0.3022837\n",
      " 0.32945666 0.21665749 0.25910787 0.34008446 0.1251732  0.32186329\n",
      " 0.31290559 0.25348492 0.13942046 0.25608788 0.31878872 0.29472339\n",
      " 0.15124223 0.27890536 0.39997223 0.31170856 0.29554011 0.31244084\n",
      " 0.33816869 0.28673673 0.45246067 0.28407111 0.27212397 0.29545584\n",
      " 0.28749061 0.21471936 0.27388348 0.26169899 0.21517043 0.38363135\n",
      " 0.30770045 0.34118133 0.17721347 0.36441377 0.22683292 0.26319313\n",
      " 0.20509312 0.22864086 0.2547587  0.21894094 0.39703659 0.32965698\n",
      " 0.34305406 0.36509943 0.31472208 0.30249002 0.23450662 0.08595541\n",
      " 0.39675011 0.21060152 0.28614508 0.29508139 0.18142932 0.3114069\n",
      " 0.27620232 0.27421599 0.37943075 0.22222566 0.20940199 0.26001854\n",
      " 0.30109352 0.19934816 0.12872315 0.33803698 0.28772048 0.33396008\n",
      " 0.25151631 0.25815742 0.25532669 0.29625495 0.15928558 0.27929225\n",
      " 0.30403518 0.2702438  0.26511977 0.34154124 0.2053354  0.2885952\n",
      " 0.3455722  0.21785435 0.30405759 0.25222006 0.10043233 0.07319893\n",
      " 0.39230441 0.32824933 0.35075819 0.11503834 0.21301571 0.23673028\n",
      " 0.30861354 0.22491395 0.30772067 0.26576548 0.36946692 0.32702119\n",
      " 0.28305053 0.18004838 0.21876143 0.3576927  0.06022612 0.18301039\n",
      " 0.29947239 0.16455835 0.29077094 0.23058007 0.31796853 0.30475034\n",
      " 0.27879508 0.01336692 0.33426328 0.21939506 0.36137431 0.36066033\n",
      " 0.3695604  0.36137106 0.29453264 0.22943531 0.15830854 0.27197938\n",
      " 0.394531   0.12446062 0.31287167 0.12205878 0.36637912 0.29254408\n",
      " 0.19942335 0.30834521 0.20648899 0.30323898]\n"
     ]
    }
   ],
   "source": [
    "#### Resposta\n",
    "centers = modelo_kmeans.clusterCenters()\n",
    "print(\"Cluster Centers: \")\n",
    "for center in centers:\n",
    "    print(center)"
   ]
  },
  {
   "cell_type": "code",
   "execution_count": 38,
   "metadata": {},
   "outputs": [
    {
     "name": "stdout",
     "output_type": "stream",
     "text": [
      "+----------+------+\n",
      "|prediction| count|\n",
      "+----------+------+\n",
      "|         1| 14013|\n",
      "|         0|153620|\n",
      "+----------+------+\n",
      "\n",
      "Silhueta com distância euclidiana quadrada: 0.18455750919818137\n",
      "Soma Quadratica dos Erros: 167285880.4666579\n"
     ]
    }
   ],
   "source": [
    "#### Resposta\n",
    "predict_bkm.groupby('prediction').count().show()\n",
    "evaluator = ClusteringEvaluator()\n",
    "silhouette = evaluator.evaluate(predict_bkm)\n",
    "print(\"Silhueta com distância euclidiana quadrada: \" + str(silhouette))\n",
    "print(\"Soma Quadratica dos Erros: \" + str(modelo_bkm.summary.trainingCost))"
   ]
  },
  {
   "cell_type": "code",
   "execution_count": 39,
   "metadata": {},
   "outputs": [
    {
     "name": "stdout",
     "output_type": "stream",
     "text": [
      "Cluster Centers: \n",
      "[2.82962777e-01 3.45120639e-01 2.25654415e-01 1.98569366e-01\n",
      " 1.74105867e-01 1.71891823e-01 1.86352054e-01 1.63128766e-01\n",
      " 1.62928144e-01 2.68908798e-02 1.69445293e-01 2.13973814e-03\n",
      " 1.34600125e-01 3.27784801e-02 1.53675717e-01 1.52525863e-01\n",
      " 1.29400756e-01 1.30894645e-01 1.36087073e-01 1.28553872e-01\n",
      " 1.33664229e-01 1.33705375e-01 1.33826248e-01 1.23952689e-01\n",
      " 1.13899761e-01 1.17608559e-01 1.19924215e-01 1.16042107e-01\n",
      " 1.18871860e-01 1.10104205e-01 1.09368843e-01 1.13608155e-01\n",
      " 1.09702239e-01 1.09535118e-01 1.11991635e-01 1.08176952e-01\n",
      " 1.00307147e-01 1.04030460e-01 7.23308769e-02 7.33494192e-02\n",
      " 9.52614322e-02 9.85602380e-02 7.99818342e-02 1.02842138e-01\n",
      " 1.03100007e-01 9.71454833e-02 8.61112143e-02 9.41408673e-02\n",
      " 5.83383009e-02 9.66985032e-02 9.64803391e-02 9.62879224e-02\n",
      " 6.45898080e-03 9.16557513e-02 9.53711418e-02 9.26172579e-02\n",
      " 8.88258069e-02 8.42348983e-02 7.93735502e-02 9.04780827e-02\n",
      " 6.71294259e-02 3.77407246e-03 8.74667203e-02 9.10608037e-02\n",
      " 9.47471788e-03 8.35818095e-02 8.65219726e-02 8.70596188e-02\n",
      " 5.34625956e-02 8.39735369e-02 7.55096095e-02 8.58884908e-02\n",
      " 8.53092556e-02 8.61728627e-02 1.54578950e-02 8.23090701e-02\n",
      " 8.40888645e-02 1.40765050e-02 4.91305016e-02 8.45107048e-02\n",
      " 7.97346956e-02 7.63964710e-02 7.70628689e-02 7.28896950e-02\n",
      " 7.23800188e-02 8.35953068e-02 7.04781668e-02 7.51106468e-02\n",
      " 6.46746427e-02 8.03767081e-02 7.35523630e-02 7.52965224e-02\n",
      " 6.80656258e-02 2.15239731e-02 7.78414479e-02 7.84329706e-02\n",
      " 7.52368218e-02 7.05829016e-02 7.63309512e-02 7.20877355e-02\n",
      " 7.92420062e-02 7.51632360e-02 7.66557519e-02 7.56590459e-02\n",
      " 7.72433805e-02 7.36169307e-02 6.73859215e-02 7.45423569e-02\n",
      " 7.37107752e-02 5.56840790e-03 7.73617865e-02 7.58019947e-02\n",
      " 3.13839616e-02 8.22004371e-04 7.11765801e-02 7.51880713e-02\n",
      " 7.24054387e-02 6.96402758e-02 7.12445987e-02 7.47183491e-02\n",
      " 7.24345939e-02 7.34888308e-02 6.86823381e-02 7.28057837e-02\n",
      " 4.74416764e-02 2.52337813e-02 6.89141880e-02 2.03954813e-02\n",
      " 7.39913836e-02 6.67695265e-02 7.14097582e-02 6.83938877e-02\n",
      " 5.44210822e-02 7.02906922e-02 7.19017833e-02 6.69920285e-02\n",
      " 2.88196508e-04 6.22137102e-02 7.13940877e-02 5.35476853e-02\n",
      " 2.84005893e-02 7.06079511e-02 6.70214189e-02 6.93875762e-02\n",
      " 6.97703287e-02 6.52711539e-02 6.75473163e-02 6.97466780e-02\n",
      " 6.32631840e-02 6.20277018e-02 5.57593313e-02 6.95960180e-02\n",
      " 7.23959205e-02 6.91878106e-02 6.84318268e-02 5.74370066e-02\n",
      " 6.79651509e-02 6.70695633e-02 6.97047631e-02 6.93574573e-02\n",
      " 6.80060741e-02 6.36067707e-02 6.60490076e-02 6.91048199e-02\n",
      " 6.81843496e-02 6.98348624e-02 5.86444458e-02 4.44425489e-02\n",
      " 6.84110660e-02 6.68295853e-02 6.21316115e-02 6.64095789e-02\n",
      " 6.81260291e-02 6.86890410e-02 6.30008334e-02 6.85803402e-02\n",
      " 6.05141219e-02 6.72949912e-02 4.96296168e-02 6.71230865e-02\n",
      " 5.14406742e-02 6.69154353e-02 6.44672133e-02 6.41963576e-02\n",
      " 6.69994284e-02 6.37564799e-02 5.16061974e-02 6.50099282e-02\n",
      " 6.22352211e-02 6.62031689e-02 6.48434631e-02 5.98096052e-02\n",
      " 1.28589910e-02 6.43395454e-02 6.04417883e-02 5.24157268e-04\n",
      " 5.86199423e-02 6.25101447e-02 6.55351567e-02 1.59841846e-03\n",
      " 6.39205388e-02 6.19851019e-02 2.55434043e-02 6.47663572e-02\n",
      " 5.62671176e-02 6.03442587e-02 6.50791346e-02 5.53053584e-02\n",
      " 6.20978132e-02 6.57825002e-02 5.87862751e-02 4.97161730e-02\n",
      " 6.10554831e-02 4.42158089e-02 2.82681753e-03 6.27106498e-02\n",
      " 5.98005421e-02 3.45636161e-02 4.39639947e-02 6.41328050e-02\n",
      " 3.26974977e-02 3.64103749e-02 5.48091229e-02 5.78240203e-02\n",
      " 5.51705279e-02 5.51705279e-02 5.71473479e-02 6.06773002e-02\n",
      " 6.05134827e-02 5.79488397e-02 6.25091130e-02 5.87274229e-02\n",
      " 6.03878952e-02 1.43110389e-02 5.91616061e-02 6.16045503e-02\n",
      " 5.92479765e-02 5.28711854e-02 5.52671906e-02 6.23699455e-02\n",
      " 5.27282142e-02 3.28842626e-03 6.04390069e-02 4.43827850e-02\n",
      " 5.91158365e-02 5.67645928e-02 4.21458589e-02 6.13296730e-02\n",
      " 6.16699908e-02 4.98412961e-02 6.00024624e-02 4.87376323e-02\n",
      " 4.45580457e-02 5.52633733e-02 5.95321516e-02 5.42387015e-02\n",
      " 5.80569249e-02 5.42956327e-02 5.86329031e-02 5.59518757e-02\n",
      " 5.48381010e-02 5.92112772e-02 4.60580345e-02 4.88636000e-02\n",
      " 5.52286817e-02 5.97344530e-02 3.13313577e-02 5.79688790e-02\n",
      " 5.90209048e-02 4.68112265e-02 3.28975622e-02 4.70357530e-02\n",
      " 3.88684967e-02 5.91281449e-02 5.85287293e-02 2.12926250e-02\n",
      " 5.53678167e-02 5.73295646e-02 3.10196499e-02 5.79828840e-02\n",
      " 5.76199813e-02 5.39141318e-02 5.56902960e-02 5.58023544e-02\n",
      " 5.65809489e-02 5.63971213e-02 5.55535747e-02 5.55611635e-02\n",
      " 5.75392088e-02 5.21781443e-02 5.77124114e-02 5.39431435e-02\n",
      " 4.99332596e-02 5.58742741e-02 5.14137323e-02 5.58623769e-02\n",
      " 5.77603597e-02 5.80056266e-02 5.46211653e-02 4.54753498e-02\n",
      " 5.59743923e-02 5.22837731e-02 4.63543433e-02 5.58507049e-02\n",
      " 5.55351883e-02 5.17643740e-02 5.33697914e-02 5.46569130e-02\n",
      " 5.57164116e-02 4.78915615e-02 5.21775185e-02 5.53952770e-02\n",
      " 5.05512954e-02 5.47088710e-02 5.39628409e-02 5.17247507e-02\n",
      " 5.58881360e-02 5.19728070e-02 4.99128620e-02 5.56953441e-02\n",
      " 1.16857992e-02 5.15048788e-02 1.12757793e-02 5.08662933e-02\n",
      " 3.85877619e-02 5.27937816e-02 5.32965795e-02 5.34811818e-02\n",
      " 4.06546370e-02 5.45567059e-02 5.52971138e-02 5.45378857e-02\n",
      " 5.30861448e-02 5.28253175e-02 5.53561524e-02 5.45286848e-02\n",
      " 3.11410904e-02 4.98819275e-02 1.77077141e-02 5.40148977e-02\n",
      " 5.47758885e-02 5.57973502e-02 4.96538363e-02 5.11305957e-02\n",
      " 5.58603621e-02 5.31024937e-02 4.88535642e-02 4.94388758e-02\n",
      " 5.32805297e-02 4.26482462e-02 4.05557477e-02 5.40539359e-02\n",
      " 5.32702258e-02 5.19053044e-02 4.96147801e-02 5.24796755e-02\n",
      " 5.18285629e-02 5.31936923e-02 5.36484155e-02 4.93408785e-02\n",
      " 5.12291889e-02 5.33165708e-02 5.37739229e-02 4.80607194e-02\n",
      " 2.46535626e-03 4.66723979e-02 5.12739019e-02 4.51712847e-02\n",
      " 5.28475793e-02 5.31111582e-02 4.64461573e-02 5.27760254e-02\n",
      " 3.87553269e-02 3.65939589e-02 5.12579641e-02 5.25074374e-02\n",
      " 5.29024524e-02 4.89751847e-02 5.11045405e-02 4.58571064e-02\n",
      " 5.18384681e-02 5.25653481e-02 3.08187701e-02 5.22985189e-02\n",
      " 4.90240209e-02 4.84768706e-02 5.20957495e-02 5.21577947e-02\n",
      " 5.13533043e-02 5.22258398e-02 4.81957843e-02 4.37893580e-02\n",
      " 4.96006459e-02 3.19917445e-02 4.31485293e-02 3.99728544e-02\n",
      " 4.86480069e-02 4.95913201e-02 4.99875734e-02 4.75551783e-02\n",
      " 5.18069508e-02 4.00593893e-02 2.04107532e-02 4.79972213e-02\n",
      " 3.39923664e-02 4.48497275e-02 4.61364385e-02 4.32699733e-02\n",
      " 4.76999275e-02 4.51030833e-02 4.91307222e-02 5.02912765e-02\n",
      " 4.84362700e-02 3.60393678e-02 4.74008332e-02 4.85639489e-02\n",
      " 4.98021232e-02 5.06237990e-02 4.84167669e-02 4.84811346e-02\n",
      " 5.04148551e-02 5.04184071e-02 5.00671377e-02 4.68988730e-02\n",
      " 4.60562344e-02 4.99494843e-02 4.81951709e-02 4.81951709e-02\n",
      " 5.08265164e-02 5.15184816e-02 1.64080113e-02 4.87996087e-03\n",
      " 4.83813264e-02 4.94967460e-02 4.13265913e-02 4.66320321e-02\n",
      " 4.43374015e-02 3.17361999e-02 4.73193291e-02 3.79914274e-02\n",
      " 4.58420545e-02 3.91666660e-02 4.88530458e-02 4.68876934e-02\n",
      " 4.94863984e-02 4.87063534e-02 4.85717020e-02 4.90603203e-02\n",
      " 4.96885085e-02 4.94780423e-02 4.40599020e-02 4.78454361e-02\n",
      " 4.99687543e-02 5.01113926e-02 4.28694681e-02 4.77630088e-02\n",
      " 4.77630088e-02 4.74787052e-02 4.91839405e-02 4.72524762e-02\n",
      " 4.92510703e-02 3.24983030e-02 4.73873934e-02 4.61649630e-02\n",
      " 4.78853964e-02 4.78106271e-02 4.68136231e-02 4.83806922e-02\n",
      " 4.85246824e-02 4.72507959e-02 4.87392149e-02 4.27449096e-02\n",
      " 2.57047091e-02 5.63193066e-03 4.42044508e-02 2.53453338e-02\n",
      " 4.30146522e-02 4.59785913e-02 4.72082685e-02 3.28761268e-02\n",
      " 4.14590906e-02 4.48049120e-02 4.68414989e-02 3.97722042e-02\n",
      " 4.76392336e-02 3.99771279e-02 4.71263223e-02 4.77809430e-02\n",
      " 4.58813948e-02 4.69042285e-02 3.74279993e-02 4.70392250e-02\n",
      " 4.60102419e-02 4.20413073e-02 4.04388863e-02 4.69630821e-02\n",
      " 4.81408397e-02 4.74796518e-02 4.74765883e-02 4.27584181e-02\n",
      " 4.60021601e-02 4.68868170e-02 4.51175032e-02 4.84347658e-02\n",
      " 4.56290934e-02 4.72534301e-02 3.03178897e-02 4.14731400e-02\n",
      " 4.71016376e-02 4.74005321e-02 4.24921415e-02 4.24921415e-02\n",
      " 4.27892893e-02 4.56899044e-02 1.17554599e-02 4.63494888e-02\n",
      " 4.26236456e-02 4.54552864e-02 4.45503555e-02 4.24903931e-02\n",
      " 4.44008577e-02 4.57463382e-02 4.60453339e-02 4.68659686e-02\n",
      " 3.99783183e-02 4.38713380e-02 4.28903684e-02 4.52973049e-02\n",
      " 4.76141063e-02 4.67128929e-02 4.68630951e-02 4.55830935e-02\n",
      " 3.56541028e-02 4.33265047e-02 4.62579635e-02 4.59566086e-02\n",
      " 4.73878425e-02 4.63314256e-02 4.71610255e-02 3.64288690e-02\n",
      " 1.51157133e-02 4.59517684e-02 3.71846547e-02 4.61766113e-02\n",
      " 3.76982827e-02 4.16346496e-02 4.42793132e-02 4.54924450e-02\n",
      " 4.53408036e-02 4.29835727e-02 4.64769372e-02 1.37139157e-03\n",
      " 3.77894567e-02 4.57130525e-02 4.65504281e-02 4.63978038e-02\n",
      " 4.51152180e-02 4.20400971e-02 3.74539047e-02 4.58619241e-04\n",
      " 3.95941278e-02 4.05776028e-02 1.44171759e-02 4.27914050e-02\n",
      " 4.36299648e-02 4.53946930e-02 4.25413312e-02 4.43909543e-02\n",
      " 4.54699011e-02 4.50863953e-02 4.63174425e-02 4.27664386e-02\n",
      " 4.44647448e-02 4.32296130e-02 4.18400897e-02 4.59307462e-02\n",
      " 3.90846720e-02 4.08956526e-02 4.58527014e-02 4.31366706e-02\n",
      " 4.46082098e-02 4.22767702e-02 4.11887651e-02 3.89230134e-02\n",
      " 4.12583942e-02 4.24316941e-02 4.43025718e-02 3.96802835e-02\n",
      " 4.46793744e-02 4.41297274e-02 4.10702231e-02 3.93459007e-02\n",
      " 4.42053546e-02 3.87188744e-02 4.36532683e-02 4.45986614e-02\n",
      " 4.23237716e-02 3.77778850e-02 1.08535007e-02 4.38858942e-02\n",
      " 4.16837346e-02 2.61565353e-02 4.41194571e-02 4.17559147e-02\n",
      " 4.30988953e-02 4.46696512e-02 3.07794417e-02 4.49864382e-02\n",
      " 4.34825950e-02 4.37988320e-02 4.37988320e-02 3.73159724e-02\n",
      " 4.28501209e-02 4.26920023e-02 4.46674498e-02 4.26083120e-02\n",
      " 3.34800784e-02 4.44285401e-02 4.06359775e-02 4.32413779e-02\n",
      " 4.32352098e-02 4.37075730e-02 4.29099896e-02 4.27504729e-02\n",
      " 4.03577225e-02 4.41861231e-02 4.34703871e-02 4.39452227e-02\n",
      " 4.28266170e-02 4.14003687e-02 3.99672790e-02 4.08645150e-02\n",
      " 4.35435162e-02 4.40237756e-02 2.43331414e-02 4.38631668e-02\n",
      " 4.03413067e-02 4.03111479e-02 4.25685722e-02 3.35388751e-02\n",
      " 4.27298168e-02 3.82149682e-02 3.94152923e-02 4.00767445e-02\n",
      " 4.28250981e-02 3.45059318e-02 4.38567935e-02 4.28857944e-02\n",
      " 4.24002948e-02 4.24905040e-02 4.21537783e-02 4.26401681e-02\n",
      " 3.77762706e-02 3.84955044e-02 4.23937833e-02 3.25456635e-02\n",
      " 2.68501724e-02 4.28017884e-02 4.29602758e-02 3.61256865e-02\n",
      " 4.16584493e-02 4.20617449e-02 1.30666727e-02 4.20550948e-02\n",
      " 4.09096253e-02 4.17278178e-02 4.04187098e-02 3.92732403e-02\n",
      " 4.07459868e-02 4.34455083e-02 4.07455018e-02 4.11688049e-02\n",
      " 3.63686803e-02 3.41293805e-02 3.92405438e-02 4.23731922e-02\n",
      " 3.99000487e-02 9.23306913e-03 3.60114397e-02 4.22886632e-02\n",
      " 3.97975750e-02 3.91342821e-02 3.59836407e-02 3.73102266e-02\n",
      " 4.13209295e-02 4.07836113e-02 4.14494662e-02 3.84531192e-02\n",
      " 4.06959710e-02 3.77672453e-02 2.77405430e-02 4.12765911e-02\n",
      " 4.11094794e-02 4.19483580e-02 3.16458867e-02 4.03619170e-02\n",
      " 3.14784482e-02 4.13573229e-02 1.99251879e-02 4.24451352e-02\n",
      " 4.14385312e-02 3.82509518e-02 3.99286252e-02 3.27791216e-02\n",
      " 4.13521226e-02 3.89987498e-02 3.96824650e-02 4.06797304e-02\n",
      " 3.72231966e-02 4.13516305e-02 3.67908650e-02 3.88448235e-02\n",
      " 3.93223466e-02 3.76346922e-02 4.23601244e-02 3.36513228e-02\n",
      " 4.21064291e-02 3.66951611e-02 4.22755312e-02 4.02632052e-02\n",
      " 4.15130060e-02 4.16824468e-02 4.11741243e-02 4.05032226e-02\n",
      " 3.98185976e-02 3.90497691e-02 4.05840269e-02 3.97288955e-02\n",
      " 4.01493671e-02 3.57261317e-02 3.69170028e-02 4.09999892e-02\n",
      " 3.84481227e-02 3.95488911e-02 3.78441975e-02 4.11667501e-02\n",
      " 3.09177666e-02 3.45754421e-02 4.13355665e-02 4.09925327e-02\n",
      " 4.06538171e-02 3.75621952e-02 4.01349483e-02 4.03895365e-02\n",
      " 4.09051476e-02 4.05614069e-02 3.52334255e-02 4.07412109e-02\n",
      " 4.03945902e-02 3.97099362e-02 3.90145736e-02 3.92675422e-02\n",
      " 3.84064119e-02 4.04775005e-02 4.11620289e-02 3.88313951e-02\n",
      " 4.02120669e-02 3.67603873e-02 3.96943149e-02 3.81410591e-02\n",
      " 3.90039790e-02 3.87394871e-02 3.94312637e-02 4.09877609e-02\n",
      " 6.39893314e-03 4.09003502e-02 3.69142991e-02 4.00338173e-02\n",
      " 2.98087298e-02 3.91672845e-02 3.98605107e-02 3.40395729e-02\n",
      " 3.94233829e-02 3.81143941e-02 2.80201710e-02 3.98547774e-02\n",
      " 3.96807391e-02 3.42855509e-02 4.01137732e-02 4.02881809e-02\n",
      " 2.93629487e-02 3.68784653e-02 3.02368459e-02 4.02877016e-02\n",
      " 3.92344052e-02 3.80083301e-02 4.01171176e-02 3.94942839e-02\n",
      " 3.63347412e-02 3.85333325e-02 3.39504660e-02 3.95842415e-02\n",
      " 3.65891033e-02 3.60613759e-02 3.83481948e-02 3.79963765e-02\n",
      " 3.54344147e-02 4.05468427e-02 3.93128083e-02 2.43281056e-02\n",
      " 3.87839365e-02 3.87839365e-02 4.00179708e-02 3.71973209e-02\n",
      " 3.35982481e-02 3.85150601e-02 3.93075595e-02 4.03699260e-02\n",
      " 3.73598877e-02 2.00079019e-02 3.47802241e-02 2.88103630e-02\n",
      " 3.62797164e-02 3.73467669e-02 3.89473426e-02 3.84138174e-02\n",
      " 3.99248596e-02 3.15477685e-02 3.72513199e-02 3.93934587e-02\n",
      " 3.27954204e-02 3.94778603e-02 3.84060632e-02 2.76880921e-02\n",
      " 3.70597050e-02 3.81338994e-02 2.50645348e-03 3.68806726e-02\n",
      " 3.58064783e-02 3.99242233e-02 3.89373144e-02 3.69635335e-02\n",
      " 3.96550529e-02 3.78607066e-02 3.45292020e-02 3.30904853e-02\n",
      " 3.31655066e-02 3.87531735e-02 3.85729262e-02 3.89334208e-02\n",
      " 3.56889691e-02 3.94741628e-02 3.91136681e-02 2.18099255e-02\n",
      " 3.88414343e-02 3.84801186e-02 3.70348559e-02 3.48669619e-02\n",
      " 3.58520920e-02 3.85681596e-02 3.78438749e-02 3.65763767e-02\n",
      " 3.62142344e-02 3.44035226e-02 3.92924443e-02 3.29549533e-02\n",
      " 3.83870884e-02 3.53088785e-02 3.81123466e-02 3.84753214e-02\n",
      " 3.28492130e-02 3.82938340e-02 3.68419351e-02 3.87487700e-02\n",
      " 3.56705967e-02 3.56536634e-02 3.76546343e-02 3.75596605e-02\n",
      " 3.86536312e-02 3.15428217e-02 3.86536312e-02 3.65506816e-02\n",
      " 3.85609690e-02 3.81954622e-02 3.72816952e-02 3.83782156e-02\n",
      " 2.01499493e-03 3.62699087e-02 3.61006037e-02 3.81017223e-02\n",
      " 2.94921985e-02 3.41518937e-02 3.80077527e-02 3.70896910e-02\n",
      " 3.67224664e-02 3.83749774e-02 3.59880170e-02 3.86497373e-02\n",
      " 3.68190150e-02 3.58890418e-02 3.49688100e-02 3.83725685e-02\n",
      " 3.69056399e-02 3.68967005e-03 3.68967005e-02 3.80036015e-02\n",
      " 3.81909110e-02 3.47843500e-02 3.86490683e-02 3.82792207e-02\n",
      " 3.63319738e-02 2.37270033e-02 3.44783017e-02 3.78149115e-02\n",
      " 3.63319738e-02 3.81856459e-02 2.83611836e-02 3.66053316e-02\n",
      " 3.58620761e-02 3.80918425e-02 3.60478900e-02 3.79978087e-02\n",
      " 3.65076986e-02 3.53901159e-02 3.79978087e-02 2.62631913e-02\n",
      " 2.14203333e-02 3.28621849e-02 3.54762223e-02 3.51027884e-02\n",
      " 3.62230902e-02 3.65965241e-02 3.69699580e-02 3.79035428e-02\n",
      " 3.57501349e-02 3.46270940e-02 3.76218697e-02 3.33168796e-02\n",
      " 2.58299404e-02 3.48309106e-02 3.64008743e-02 3.65885077e-02\n",
      " 3.48998073e-02 3.69637744e-02 3.44216918e-02 3.76193353e-02\n",
      " 1.80572810e-02 3.63026586e-02 3.61145619e-02 3.79012505e-02\n",
      " 3.60156161e-02 3.14900937e-02 3.61054351e-02 3.68665104e-02\n",
      " 3.78067383e-02 3.40260645e-02 3.68615698e-02 3.12687357e-02\n",
      " 3.58266268e-02 3.71434679e-02 3.48693780e-02 3.71434679e-02\n",
      " 3.70470503e-02 3.22974285e-02 3.51472016e-02 3.51472016e-02\n",
      " 2.90676857e-02 3.68570655e-02 3.66670806e-02 3.30573680e-02\n",
      " 3.41972772e-02 3.48552578e-02 3.40933942e-02 3.67599167e-02\n",
      " 3.71408485e-02 3.56171213e-02 3.58075872e-02 3.27601330e-02\n",
      " 3.42838601e-02 3.61885190e-02 3.59980531e-02 3.71408485e-02\n",
      " 3.47530062e-02 3.45620556e-02 3.49439568e-02 3.61819715e-02\n",
      " 3.13959964e-02 3.59905325e-02 3.52247765e-02 3.40761425e-02\n",
      " 2.51429865e-02 3.35879591e-02 3.32250067e-02 3.60892314e-02\n",
      " 3.49435415e-02 2.59107113e-02 3.66588582e-02 3.05517303e-02\n",
      " 3.70427206e-02 5.75793584e-04 3.41637527e-02 3.40757375e-02\n",
      " 3.44444704e-02 3.42520432e-02 2.94812561e-02 3.42520432e-02\n",
      " 3.54985854e-02 3.00966267e-02 3.64632208e-02 3.61715787e-02]\n",
      "[1.90686148e+00 2.37541038e-01 8.07612172e-02 2.38355597e-01\n",
      " 2.92693017e-01 2.43231958e-01 7.86125397e-02 2.04644121e-01\n",
      " 1.88449447e-01 1.48817639e+00 0.00000000e+00 1.74057664e+00\n",
      " 2.53777882e-01 1.26581846e+00 4.08426546e-02 3.87001177e-02\n",
      " 2.62309944e-01 2.21582484e-01 1.49522618e-01 2.00600134e-01\n",
      " 7.74193529e-02 4.13785237e-02 5.17972654e-02 1.11299684e-01\n",
      " 1.46120486e-01 8.25649290e-02 5.53967338e-02 4.59379224e-02\n",
      " 8.98779273e-03 8.03969259e-02 8.19349266e-02 2.51106310e-02\n",
      " 6.43547691e-02 6.31110408e-02 2.61326263e-02 5.03572921e-02\n",
      " 1.03918203e-01 6.35298533e-02 3.76776466e-01 3.74314064e-01\n",
      " 1.24039394e-01 8.89068491e-02 2.75479925e-01 2.76181326e-02\n",
      " 2.04555243e-02 7.98104605e-02 1.65105276e-01 9.72900864e-02\n",
      " 4.66917508e-01 3.89053231e-02 3.15568960e-02 1.95254012e-02\n",
      " 9.65359984e-01 6.13529444e-02 1.58210324e-02 2.42155777e-02\n",
      " 5.68413184e-02 1.05733537e-01 1.47262341e-01 3.18477574e-02\n",
      " 2.77620323e-01 9.52355821e-01 5.77052472e-02 1.48565847e-02\n",
      " 8.84999654e-01 9.19990480e-02 5.65010665e-02 5.07708310e-02\n",
      " 3.95148688e-01 6.19997305e-02 1.45752941e-01 3.60058203e-02\n",
      " 3.87166359e-02 1.73323489e-02 7.70876288e-01 5.40786934e-02\n",
      " 2.98225332e-02 7.72373746e-01 4.01682085e-01 1.33011689e-02\n",
      " 6.50474337e-02 9.74566031e-02 8.53986229e-02 1.27126169e-01\n",
      " 1.28926289e-01 9.93231611e-03 1.34979976e-01 8.46881058e-02\n",
      " 1.91687262e-01 2.67505739e-02 9.71080841e-02 7.43373331e-02\n",
      " 1.46662350e-01 6.39042771e-01 3.83198684e-02 2.63388371e-02\n",
      " 5.51294586e-02 9.99112937e-02 3.91658754e-02 8.14705521e-02\n",
      " 4.79507784e-03 4.34003026e-02 2.70199962e-02 3.76349947e-02\n",
      " 2.02765395e-02 5.88985196e-02 1.23802126e-01 4.07616705e-02\n",
      " 4.96112863e-02 7.73868449e-01 1.07254453e-02 2.63567438e-02\n",
      " 4.98430605e-01 8.16105764e-01 7.06976829e-02 2.64957012e-02\n",
      " 5.07575100e-02 8.55778272e-02 6.70074358e-02 2.75416303e-02\n",
      " 5.23508494e-02 3.86377404e-02 8.83324867e-02 3.99169841e-02\n",
      " 3.09545198e-01 5.36473267e-01 7.07657200e-02 5.85971317e-01\n",
      " 1.61851430e-02 8.49679469e-02 3.85844406e-02 7.12123266e-02\n",
      " 2.19001069e-01 4.69150797e-02 2.35776091e-02 7.38072887e-02\n",
      " 7.81652435e-01 1.26745663e-01 2.58623381e-02 2.14890802e-01\n",
      " 4.82706652e-01 3.21536414e-02 6.82749404e-02 4.46296053e-02\n",
      " 3.53343015e-02 8.42912926e-02 5.74254535e-02 3.45248647e-02\n",
      " 1.03574594e-01 1.16206970e-01 1.81916183e-01 3.35007075e-02\n",
      " 3.15131746e-03 3.67902282e-02 4.00789698e-02 1.54514657e-01\n",
      " 4.34512531e-02 5.29893330e-02 2.43918712e-02 2.64943495e-02\n",
      " 4.14172065e-02 8.72028410e-02 6.06586247e-02 2.43909981e-02\n",
      " 3.52405434e-02 1.60520906e-02 1.30923196e-01 2.79492439e-01\n",
      " 2.69048493e-02 4.10411778e-02 8.83712435e-02 3.89917666e-02\n",
      " 2.06988070e-02 1.30632817e-02 7.41878796e-02 1.31207085e-02\n",
      " 9.84774552e-02 2.62606547e-02 2.10546477e-01 2.31312649e-02\n",
      " 1.89597051e-01 2.31309883e-02 4.86466391e-02 4.98644008e-02\n",
      " 1.77831593e-02 5.12041539e-02 1.79487283e-01 3.56198550e-02\n",
      " 6.46100581e-02 2.23476716e-02 3.34695346e-02 8.65030596e-02\n",
      " 5.84840784e-01 3.71302183e-02 7.75148018e-02 7.11187160e-01\n",
      " 9.69140940e-02 5.20815471e-02 1.81581699e-02 6.99089543e-01\n",
      " 3.19283881e-02 5.13954723e-02 4.36634502e-01 1.94784667e-02\n",
      " 1.09996047e-01 6.31194906e-02 1.15324124e-02 1.12739523e-01\n",
      " 4.27047591e-02 3.46254803e-03 7.73934712e-02 1.73410879e-01\n",
      " 5.20659428e-02 2.29087410e-01 6.62328316e-01 2.80226615e-02\n",
      " 5.84294085e-02 3.27204688e-01 2.25916177e-01 9.35643149e-03\n",
      " 3.42388163e-01 3.03423902e-01 1.05704102e-01 7.41822515e-02\n",
      " 1.02442157e-01 1.02442157e-01 8.02062402e-02 4.02406873e-02\n",
      " 4.02056817e-02 6.87049268e-02 2.01376510e-02 6.04129529e-02\n",
      " 3.91577215e-02 5.29875782e-01 4.98365066e-02 2.61961061e-02\n",
      " 5.00979561e-02 1.15012565e-01 8.76893873e-02 8.42339552e-03\n",
      " 1.11104284e-01 6.37641977e-01 2.89837262e-02 1.97556087e-01\n",
      " 3.76054718e-02 6.32524495e-02 2.17110066e-01 1.09673382e-02\n",
      " 7.33843945e-03 1.33314983e-01 2.44839471e-02 1.44455288e-01\n",
      " 1.87127970e-01 7.24947833e-02 2.70319531e-02 7.97176707e-02\n",
      " 3.71729994e-02 7.41349779e-02 2.97945974e-02 5.83477533e-02\n",
      " 6.95865721e-02 2.23883373e-02 1.61847277e-01 1.31967780e-01\n",
      " 6.35544144e-02 1.36946060e-02 3.16185057e-01 3.24933260e-02\n",
      " 2.00343380e-02 1.48181637e-01 2.96363273e-01 1.40809954e-01\n",
      " 2.31511483e-01 1.51132672e-02 1.89655876e-02 4.14263619e-01\n",
      " 5.07244450e-02 2.91953892e-02 3.08761174e-01 2.16005760e-02\n",
      " 2.41898147e-02 6.36574072e-02 4.21821151e-02 3.97053568e-02\n",
      " 3.07706363e-02 3.20851415e-02 4.10689812e-02 3.97048827e-02\n",
      " 1.67009712e-02 7.18690041e-02 1.42039070e-02 5.30505639e-02\n",
      " 9.31608535e-02 2.98832012e-02 7.67364872e-02 2.73984964e-02\n",
      " 6.53028076e-03 3.91816845e-03 3.79952106e-02 1.31494428e-01\n",
      " 2.35832341e-02 6.28886244e-02 1.22766353e-01 2.22727885e-02\n",
      " 2.62868531e-02 6.57869595e-02 4.60503219e-02 3.29988941e-02\n",
      " 1.84199098e-02 1.04388258e-01 5.67574202e-02 2.38102114e-02\n",
      " 7.53990029e-02 3.04569057e-02 3.84021854e-02 6.22380247e-02\n",
      " 1.72333419e-02 5.69404918e-02 7.82119256e-02 1.72894131e-02\n",
      " 4.70594318e-01 5.85809886e-02 4.88357666e-01 6.67155282e-02\n",
      " 1.94807017e-01 4.41774138e-02 3.88225757e-02 3.61850100e-02\n",
      " 1.70769695e-01 1.60285042e-02 1.34764000e-02 2.15622401e-02\n",
      " 3.49991995e-02 3.91252320e-02 1.08173844e-02 1.89517201e-02\n",
      " 2.68031470e-01 6.77610351e-02 4.09739196e-01 2.30647892e-02\n",
      " 1.35983121e-02 2.71966242e-03 6.67836312e-02 4.90090438e-02\n",
      " 0.00000000e+00 2.86871059e-02 7.25673718e-02 6.42774415e-02\n",
      " 2.33571726e-02 1.53226536e-02 1.58187977e-01 1.23654144e-02\n",
      " 2.07055534e-02 3.45497275e-02 5.68620900e-02 2.63507246e-02\n",
      " 3.32851259e-02 1.80507891e-02 1.25115309e-02 5.83871444e-02\n",
      " 3.75792444e-02 1.39514924e-02 8.38092551e-03 6.85264334e-02\n",
      " 5.47235342e-01 8.26107642e-02 3.36043786e-02 9.64952549e-02\n",
      " 1.54392528e-02 1.26321159e-02 8.29109714e-02 1.40869396e-02\n",
      " 1.63408499e-01 1.84312076e-01 2.81392482e-02 1.55335668e-02\n",
      " 9.90931513e-03 5.10250726e-02 2.83472625e-02 8.21047744e-02\n",
      " 1.84027943e-02 1.13670083e-02 2.42969802e-01 1.42087604e-02\n",
      " 4.83698397e-02 5.27692105e-02 1.28036284e-02 1.28518307e-02\n",
      " 2.14197178e-02 9.98324506e-03 5.43314214e-02 9.98324506e-02\n",
      " 3.86525007e-02 2.26188708e-01 1.07368057e-01 1.40471317e-01\n",
      " 4.73614137e-02 3.73150532e-02 3.16545307e-02 5.46753553e-02\n",
      " 1.01105685e-02 1.34498711e-01 3.33878405e-01 4.92349129e-02\n",
      " 1.98387737e-01 8.13026694e-02 6.68710379e-02 9.73991204e-02\n",
      " 4.94907547e-02 7.71473529e-02 3.35227318e-02 2.04318409e-02\n",
      " 3.94559602e-02 1.69290377e-01 4.97506392e-02 3.66295989e-02\n",
      " 2.34429433e-02 1.32216009e-02 3.67266693e-02 3.53044758e-02\n",
      " 1.47101983e-02 1.32039360e-02 1.76757686e-02 4.99476745e-02\n",
      " 6.03922092e-02 1.31169699e-02 3.68737372e-02 3.68737372e-02\n",
      " 8.84969692e-03 0.00000000e+00 3.73187722e-01 4.94476203e-01\n",
      " 3.11831840e-02 1.93038758e-02 1.05572083e-01 4.90687146e-02\n",
      " 7.12749992e-02 2.06964917e-01 4.02567313e-02 1.38851999e-01\n",
      " 5.52421931e-02 1.25586962e-01 2.24262432e-02 4.33574035e-02\n",
      " 1.34371300e-02 2.24881455e-02 2.24259758e-02 1.64683658e-02\n",
      " 1.05235969e-02 1.05088767e-02 6.59636582e-02 2.86437771e-02\n",
      " 6.03026885e-03 3.00670612e-03 8.01253406e-02 2.72507068e-02\n",
      " 2.72507068e-02 3.02785632e-02 9.08346065e-03 3.04074107e-02\n",
      " 9.12222322e-03 1.86014811e-01 2.74448081e-02 3.96992987e-02\n",
      " 2.13765455e-02 2.14072613e-02 2.74441557e-02 1.38015600e-02\n",
      " 1.22680533e-02 2.12844306e-02 9.21437634e-03 7.22842063e-02\n",
      " 2.53763703e-01 4.67540398e-01 5.52055818e-02 2.56047725e-01\n",
      " 6.78680717e-02 3.55285188e-02 2.16578636e-02 1.72753032e-01\n",
      " 8.21114362e-02 4.64781714e-02 2.47883581e-02 9.93001385e-02\n",
      " 1.55156466e-02 9.63397652e-02 2.02002734e-02 1.24494401e-02\n",
      " 3.26797801e-02 2.17865201e-02 1.20364946e-01 1.72208955e-02\n",
      " 2.81796472e-02 7.04491179e-02 8.05583572e-02 1.72469165e-02\n",
      " 4.70370449e-03 9.39310378e-03 1.09919448e-02 6.12408352e-02\n",
      " 2.66947230e-02 1.72730561e-02 3.61163900e-02 0.00000000e+00\n",
      " 2.98806354e-02 1.25813202e-02 1.92157706e-01 7.25637277e-02\n",
      " 1.26197787e-02 7.86323139e-03 6.01283172e-02 6.01283172e-02\n",
      " 5.69636689e-02 2.36981071e-02 3.86683130e-01 1.74594320e-02\n",
      " 5.71399593e-02 2.69827586e-02 3.50276061e-02 2.38171622e-02\n",
      " 3.66197701e-02 2.22902948e-02 1.91059670e-02 9.56791651e-03\n",
      " 8.29219431e-02 4.14609716e-02 5.11089065e-02 2.38821742e-02\n",
      " 0.00000000e+00 9.59799439e-03 7.99832866e-03 2.08284708e-02\n",
      " 1.26573015e-01 4.48613217e-02 1.28378113e-02 1.60472641e-02\n",
      " 0.00000000e+00 1.12509241e-02 1.60983555e-03 1.15908159e-01\n",
      " 3.42894971e-01 1.44885199e-02 1.07858982e-01 1.12868597e-02\n",
      " 1.01581737e-01 5.96591156e-02 3.06848845e-02 1.77649331e-02\n",
      " 1.93799270e-02 4.36749790e-02 6.47036727e-03 4.85224837e-01\n",
      " 9.73695325e-02 1.29826043e-02 3.25092315e-03 4.87638472e-03\n",
      " 1.28988101e-02 5.04714263e-02 9.93147420e-02 4.93317489e-01\n",
      " 7.65211947e-02 6.52309001e-02 3.43023998e-01 4.08361902e-02\n",
      " 3.10865832e-02 1.14718636e-02 4.10388204e-02 2.13401866e-02\n",
      " 9.84931690e-03 1.14717269e-02 0.00000000e+00 3.78184756e-02\n",
      " 1.97313786e-02 3.28856310e-02 4.76841649e-02 3.29404793e-03\n",
      " 7.21071447e-02 5.60925263e-02 3.29956037e-03 3.13984561e-02\n",
      " 1.48980104e-02 3.97280278e-02 5.13153692e-02 7.46159767e-02\n",
      " 4.97439845e-02 3.47616103e-02 1.31979281e-02 6.48871238e-02\n",
      " 1.16464068e-02 1.66661392e-02 4.84146320e-02 6.67788028e-02\n",
      " 1.50252306e-02 7.34566830e-02 2.00680919e-02 8.33297033e-03\n",
      " 3.17195535e-02 8.01336089e-02 3.68549899e-01 1.67522681e-02\n",
      " 4.02054435e-02 2.04731574e-01 1.34250213e-02 3.85969361e-02\n",
      " 2.17776892e-02 6.72417464e-03 1.54656017e-01 1.67520686e-03\n",
      " 1.85237245e-02 1.51557746e-02 1.51557746e-02 8.41987476e-02\n",
      " 2.52596243e-02 2.69435992e-02 5.06076500e-03 2.69907467e-02\n",
      " 1.23361528e-01 6.75953576e-03 4.54667822e-02 1.68690158e-02\n",
      " 1.86214810e-02 1.18920585e-02 2.03863860e-02 2.20852514e-02\n",
      " 4.75682339e-02 6.79546198e-03 1.18708486e-02 8.50945698e-03\n",
      " 2.04226968e-02 3.39167104e-02 4.91792301e-02 3.54240983e-02\n",
      " 1.19345349e-02 6.81973423e-03 2.16526562e-01 5.11473977e-03\n",
      " 4.26228314e-02 4.29316947e-02 1.88899457e-02 1.15056942e-01\n",
      " 1.71726779e-02 6.52561760e-02 5.16118049e-02 4.28534671e-02\n",
      " 1.02109862e-02 1.01317593e-01 3.44707274e-03 1.37882910e-02\n",
      " 1.89589001e-02 1.37129474e-02 2.07203588e-02 1.55402691e-02\n",
      " 6.73411662e-02 5.88157247e-02 1.72987426e-02 1.21314871e-01\n",
      " 1.81972307e-01 1.03600561e-02 1.03984175e-02 8.31873402e-02\n",
      " 2.42629742e-02 1.90991100e-02 3.27028604e-01 1.74276312e-02\n",
      " 2.96269730e-02 2.09131574e-02 3.48552624e-02 4.70546042e-02\n",
      " 3.13697361e-02 1.74603070e-03 2.78838779e-02 1.90630897e-02\n",
      " 7.53627245e-02 9.83329241e-02 4.38986269e-02 1.05356704e-02\n",
      " 3.68748466e-02 3.63480630e-01 7.74086574e-02 1.05557260e-02\n",
      " 3.53206129e-02 4.23847355e-02 7.59393177e-02 6.18110725e-02\n",
      " 8.69705932e-03 2.30470749e-02 1.59556673e-02 4.78670018e-02\n",
      " 2.30918011e-02 5.33925904e-02 1.60177771e-01 1.60177771e-02\n",
      " 1.77975301e-02 7.09132326e-03 1.17693443e-01 2.30915262e-02\n",
      " 1.19476677e-01 1.42658719e-02 2.42519822e-01 1.78673550e-03\n",
      " 1.25071485e-02 4.64551230e-02 2.85877680e-02 1.03834951e-01\n",
      " 1.25318044e-02 3.75954131e-02 2.85314042e-02 1.96928355e-02\n",
      " 5.56078308e-02 8.95118231e-03 5.93130575e-02 3.38806424e-02\n",
      " 3.23525768e-02 5.03262306e-02 0.00000000e+00 9.18485083e-02\n",
      " 1.80095114e-03 5.94313877e-02 0.00000000e+00 1.78669314e-02\n",
      " 7.21823399e-03 5.41367549e-03 1.08273510e-02 1.61760959e-02\n",
      " 2.52638190e-02 3.25473778e-02 1.44074377e-02 2.53146272e-02\n",
      " 1.99302273e-02 6.70380374e-02 5.43551654e-02 1.08710331e-02\n",
      " 3.80486158e-02 2.54171720e-02 4.35722949e-02 7.27683284e-03\n",
      " 1.16429325e-01 7.65629272e-02 3.65333682e-03 7.30667363e-03\n",
      " 9.09593281e-03 4.38400418e-02 1.64400157e-02 1.28130321e-02\n",
      " 7.32173263e-03 1.09825989e-02 6.77260269e-02 5.44640777e-03\n",
      " 1.09374309e-02 1.82290515e-02 2.74564974e-02 2.38448773e-02\n",
      " 3.30159839e-02 9.13323337e-03 3.66844265e-03 2.75704974e-02\n",
      " 1.28662321e-02 4.96268953e-02 1.83803316e-02 3.49226300e-02\n",
      " 2.57324642e-02 2.76280335e-02 2.02605579e-02 3.68373780e-03\n",
      " 3.72057518e-01 3.69145761e-03 4.61432201e-02 1.29201016e-02\n",
      " 1.21818101e-01 2.21487457e-02 1.47658304e-02 7.58341381e-02\n",
      " 1.84961312e-02 3.15098760e-02 1.39014159e-01 1.29746548e-02\n",
      " 1.48281769e-02 7.22873626e-02 9.28728023e-03 7.42982419e-03\n",
      " 1.22853402e-01 4.28125491e-02 1.13546326e-01 3.71486790e-03\n",
      " 1.67885981e-02 2.98463965e-02 3.69913860e-03 1.30858709e-02\n",
      " 4.67352534e-02 2.05191535e-02 7.11909675e-02 9.32688796e-03\n",
      " 4.30892698e-02 4.87096093e-02 2.43548047e-02 2.81016977e-02\n",
      " 5.44477667e-02 0.00000000e+00 1.31425644e-02 1.72730846e-01\n",
      " 1.87750920e-02 1.87750920e-02 5.63252759e-03 3.56726747e-02\n",
      " 7.11901206e-02 2.06975832e-02 1.13142879e-02 0.00000000e+00\n",
      " 3.20571489e-02 2.16857184e-01 5.85855977e-02 1.21217844e-01\n",
      " 4.16686340e-02 3.03044611e-02 1.32582017e-02 1.89402882e-02\n",
      " 1.89822744e-03 9.11149170e-02 3.03716390e-02 5.66950653e-03\n",
      " 7.78273249e-02 5.70736245e-03 1.71220874e-02 1.31269336e-01\n",
      " 3.05073484e-02 1.90670928e-02 3.98502239e-01 3.24140577e-02\n",
      " 4.38543134e-02 0.00000000e+00 9.55496567e-03 3.05758902e-02\n",
      " 1.91099313e-03 2.10209245e-02 5.55438754e-02 7.08663238e-02\n",
      " 6.91073405e-02 9.59824174e-03 1.15178901e-02 7.67859339e-03\n",
      " 4.22322637e-02 1.91964835e-03 5.75894504e-03 1.90045186e-01\n",
      " 7.69608147e-03 1.15441222e-02 2.69362852e-02 5.00245296e-02\n",
      " 3.85684490e-02 9.64211225e-03 1.73558021e-02 3.08547592e-02\n",
      " 3.47116041e-02 5.39958286e-02 1.92842245e-03 6.94232082e-02\n",
      " 1.15705347e-02 4.43537164e-02 1.35299846e-02 9.66427470e-03\n",
      " 6.95827779e-02 1.15971296e-02 2.70599692e-02 3.85679904e-03\n",
      " 3.66395909e-02 3.87463638e-02 1.74358637e-02 1.74763130e-02\n",
      " 5.82543766e-03 8.15561273e-02 5.82543766e-03 2.72487376e-02\n",
      " 5.83901520e-03 9.73169200e-03 1.94633840e-02 7.78535360e-03\n",
      " 3.94081011e-01 2.92634414e-02 2.91268420e-02 9.75448046e-03\n",
      " 1.01446597e-01 5.08426362e-02 9.77743005e-03 1.95548601e-02\n",
      " 2.34658321e-02 5.86645803e-03 3.12877761e-02 1.96010853e-03\n",
      " 1.95087290e-02 3.13617365e-02 4.11622792e-02 3.92952809e-03\n",
      " 1.75991648e-02 3.73305169e-01 1.96476405e-02 7.85905618e-03\n",
      " 3.91092552e-03 3.92017045e-02 0.00000000e+00 3.93890590e-03\n",
      " 2.36901076e-02 1.57934051e-01 4.34318640e-02 7.89670255e-03\n",
      " 2.36901076e-02 3.94835127e-03 1.08579660e-01 1.97893252e-02\n",
      " 2.77050553e-02 3.95786504e-03 2.57261228e-02 3.96744803e-03\n",
      " 1.98372402e-02 3.17395843e-02 3.96744803e-03 1.28942061e-01\n",
      " 1.80518886e-01 5.76679658e-02 2.98282582e-02 3.38053592e-02\n",
      " 2.18740560e-02 1.78969549e-02 1.39198538e-02 3.97710109e-03\n",
      " 2.59143629e-02 3.78748381e-02 5.98023759e-03 5.18287258e-02\n",
      " 1.31565227e-01 3.37229074e-02 1.79847937e-02 1.59864833e-02\n",
      " 3.39712770e-02 1.19898625e-02 3.80616481e-02 4.00648928e-03\n",
      " 2.12343932e-01 1.80292017e-02 2.00324464e-02 0.00000000e+00\n",
      " 2.00821565e-02 6.82793322e-02 1.81190153e-02 8.01288331e-03\n",
      " 0.00000000e+00 4.02644784e-02 1.00661196e-02 6.86211768e-02\n",
      " 1.80737261e-02 6.05480972e-03 3.02740486e-02 6.05480972e-03\n",
      " 6.07006226e-03 5.66539144e-02 2.63036031e-02 2.63036031e-02\n",
      " 9.10509339e-02 8.09341635e-03 1.01167704e-02 4.85604981e-02\n",
      " 3.64203736e-02 2.83986772e-02 3.65125850e-02 8.11390778e-03\n",
      " 4.05695389e-03 2.02847695e-02 1.82562925e-02 5.07119236e-02\n",
      " 3.44841081e-02 1.41993386e-02 1.62278156e-02 4.05695389e-03\n",
      " 2.84709457e-02 3.05045846e-02 2.64373067e-02 1.22330441e-02\n",
      " 6.32040610e-02 1.42718847e-02 2.24272475e-02 3.46602915e-02\n",
      " 1.28777201e-01 3.88375687e-02 4.06722962e-02 1.01680740e-02\n",
      " 2.23697629e-02 1.20600871e-01 6.13224769e-03 6.91429035e-02\n",
      " 2.04408256e-03 3.90419770e-01 3.27053210e-02 3.05822467e-02\n",
      " 2.86911121e-02 3.07404773e-02 7.95138415e-02 3.07404773e-02\n",
      " 1.64375118e-02 7.39688031e-02 6.16406692e-03 8.24021827e-03]\n"
     ]
    }
   ],
   "source": [
    "#### Resposta\n",
    "centers = modelo_bkm.clusterCenters()\n",
    "print(\"Cluster Centers: \")\n",
    "for center in centers:\n",
    "    print(center)"
   ]
  },
  {
   "cell_type": "code",
   "execution_count": 40,
   "metadata": {},
   "outputs": [
    {
     "name": "stdout",
     "output_type": "stream",
     "text": [
      "Valor de k  2 custo  164983646.26374057\n",
      "Valor de k  3 custo  164294075.81678393\n",
      "Valor de k  4 custo  163254497.10582596\n",
      "Valor de k  5 custo  162811034.23164707\n",
      "Valor de k  6 custo  162517752.707851\n",
      "Valor de k  7 custo  161434231.31737512\n",
      "Valor de k  8 custo  160548226.30001825\n",
      "Valor de k  9 custo  160115541.8905314\n",
      "Valor de k  10 custo  159922630.95783702\n",
      "Valor de k  11 custo  159281801.42412883\n",
      "Valor de k  12 custo  158904345.86603078\n",
      "Valor de k  13 custo  158635876.777637\n",
      "Valor de k  14 custo  159646690.55505425\n",
      "Valor de k  15 custo  158221220.48318574\n",
      "Valor de k  16 custo  157796478.9784485\n",
      "Valor de k  17 custo  157345785.11166856\n",
      "Valor de k  18 custo  157246254.7179705\n",
      "Valor de k  19 custo  157217495.434383\n"
     ]
    }
   ],
   "source": [
    "cost = np.zeros(20)\n",
    "for k in range(2,20):\n",
    "    kmeans = KMeans(featuresCol='features').setK(k).setSeed(1)\n",
    "    modelo = kmeans.fit(text_feature)\n",
    "    custo = modelo.summary.trainingCost\n",
    "    print(\"Valor de k \", k, \"custo \", str(custo))\n",
    "    cost[k] = custo"
   ]
  },
  {
   "cell_type": "code",
   "execution_count": 41,
   "metadata": {},
   "outputs": [
    {
     "data": {
      "text/plain": [
       "Text(0, 0.5, 'cost')"
      ]
     },
     "execution_count": 41,
     "metadata": {},
     "output_type": "execute_result"
    },
    {
     "data": {
      "image/png": "[encoded data removed]",
      "text/plain": [
       "<Figure size 576x432 with 1 Axes>"
      ]
     },
     "metadata": {
      "needs_background": "light"
     },
     "output_type": "display_data"
    }
   ],
   "source": [
    "fig, ax = plt.subplots(1,1, figsize =(8,6))\n",
    "ax.plot(range(2,20),cost[2:20])\n",
    "ax.set_xlabel('k')\n",
    "ax.set_ylabel('cost')"
   ]
  },
  {
   "cell_type": "code",
   "execution_count": 42,
   "metadata": {},
   "outputs": [
    {
     "name": "stdout",
     "output_type": "stream",
     "text": [
      "Valor de k  2 custo  167285880.4666579\n",
      "Valor de k  3 custo  167285880.4666579\n",
      "Valor de k  4 custo  167285880.4666579\n",
      "Valor de k  5 custo  167285880.4666579\n",
      "Valor de k  6 custo  167285880.4666579\n",
      "Valor de k  7 custo  167285880.4666579\n",
      "Valor de k  8 custo  167285880.4666579\n",
      "Valor de k  9 custo  167285880.4666579\n",
      "Valor de k  10 custo  167285880.4666579\n",
      "Valor de k  11 custo  167285880.4666579\n",
      "Valor de k  12 custo  167285880.4666579\n",
      "Valor de k  13 custo  167285880.4666579\n",
      "Valor de k  14 custo  167285880.4666579\n",
      "Valor de k  15 custo  167285880.4666579\n",
      "Valor de k  16 custo  167285880.4666579\n",
      "Valor de k  17 custo  167285880.4666579\n",
      "Valor de k  18 custo  167285880.4666579\n",
      "Valor de k  19 custo  167285880.4666579\n"
     ]
    }
   ],
   "source": [
    "cost = np.zeros(20)\n",
    "for k in range(2,20):\n",
    "    bkm = BisectingKMeans(featuresCol='features').setK(2).setSeed(1)\n",
    "    modelo = bkm.fit(title_feature)\n",
    "    custo = modelo.summary.trainingCost\n",
    "    print(\"Valor de k \", k, \"custo \", str(custo))\n",
    "    cost[k] = custo"
   ]
  },
  {
   "cell_type": "code",
   "execution_count": 43,
   "metadata": {},
   "outputs": [
    {
     "data": {
      "text/plain": [
       "Text(0, 0.5, 'cost')"
      ]
     },
     "execution_count": 43,
     "metadata": {},
     "output_type": "execute_result"
    },
    {
     "data": {
      "image/png": "[encoded data removed]",
      "text/plain": [
       "<Figure size 576x432 with 1 Axes>"
      ]
     },
     "metadata": {
      "needs_background": "light"
     },
     "output_type": "display_data"
    }
   ],
   "source": [
    "fig, ax = plt.subplots(1,1, figsize =(8,6))\n",
    "ax.plot(range(2,20),cost[2:20])\n",
    "ax.set_xlabel('k')\n",
    "ax.set_ylabel('cost')"
   ]
  },
  {
   "cell_type": "markdown",
   "metadata": {},
   "source": [
    "# Considerações sobre o Trabalho\n",
    "\n",
    "A maior parte do trabalho foi gasto para à preparação dos dados nas etapas de pré-processamento, compreensão do algoritmo e avaliação do modelo.\n",
    "\n",
    "Durante o processo de otimização, para se encontrar o foi-se percebido que quanto mais se aumentava o valor do k, maior era a taxa de erro.\n",
    "\n",
    "Durante o processo de treinamento notou-se que os Bisecting k-means foi mais rapido com relação ao modelo KMeans, em ambos os casos os mesmo apresentaram resultados semelhantes.\n",
    "\n",
    "K-Means não é o melhor algoritmo para análise de texto em geral, pois pode funcionar mal em dimensões altas. Como proposta futura será aplicado um modelo LDA ou Gaussian Mixture Model."
   ]
  },
  {
   "cell_type": "markdown",
   "metadata": {},
   "source": [
    "# Questões teóricas"
   ]
  },
  {
   "cell_type": "markdown",
   "metadata": {},
   "source": [
    "###  Questão 8) Porque map reduce do hadoop não é adequado para aplicar nos algoritmos de aprendizagem de máquina ?"
   ]
  },
  {
   "cell_type": "markdown",
   "metadata": {},
   "source": [
    "#### Resposta:\n",
    "Map reduce é uma ferramenta para lidar com grandes volumes de dados em paralelo em grandes clusters de hardware comum de maneira confiável e tolerante a falhas. Este não possue uma biblioteca de aprendizado de máquina integrada, precisado de pacotes de terceiro."
   ]
  },
  {
   "cell_type": "markdown",
   "metadata": {},
   "source": [
    "### Questão 9) Qual a diferença fundamental entre transformação e ações no spark ?"
   ]
  },
  {
   "cell_type": "markdown",
   "metadata": {},
   "source": [
    "#### Resposta:\n",
    " - Transformações criam um novo RDD ou DataFrame a partir de um existente, estes são executados sob demanda.\n",
    " - Ações retornam os resultados finais de cáculos.\n",
    " - Transformação é função que altera os dados, já as acções elas não alteram os dados mas fornece uma saída."
   ]
  },
  {
   "cell_type": "markdown",
   "metadata": {},
   "source": [
    "### Questão 10) Qual a vantagem de uma arquitetura com spark e hdfs ? "
   ]
  },
  {
   "cell_type": "markdown",
   "metadata": {},
   "source": [
    "#### Resposta:\n",
    "\n",
    "- Spark é uma ferramenta que apresenta como intuito aprimorar e não substituir a pilha do Hadoop. Tolerância a falhas do Spark é alcançada principalmente por meio de operações RDD. Inicialmente, os dados em repouso são armazenados no HDFS, que é tolerante a falhas por meio da arquitetura do Hadoop. À medida que um RDD é construído, também o é uma linhagem, que lembra como o conjunto de dados foi construído e, como é imutável, pode reconstruí-lo do zero, se necessário.\n",
    "- Spark foi projetado para ler e gravar dados de e para HDFS, bem como outros sistemas de armazenamento, como o HBase e o S3 da Amazon."
   ]
  },
  {
   "cell_type": "markdown",
   "metadata": {},
   "source": [
    "### Questão 11) Qual a vantagem em utilizar um cluster spark ?"
   ]
  },
  {
   "cell_type": "markdown",
   "metadata": {},
   "source": [
    "#### Resposta:\n",
    "Aplicações desenvolvidas utilizando um cluster spark executam operações mais rápido em memória e em disco. "
   ]
  },
  {
   "cell_type": "markdown",
   "metadata": {},
   "source": [
    "### Questão 12) Quais dos produtos do hadoop o spark mostra uma grande melhora ? "
   ]
  },
  {
   "cell_type": "markdown",
   "metadata": {},
   "source": [
    "#### Resposta:\n",
    "Map reduce"
   ]
  },
  {
   "cell_type": "markdown",
   "metadata": {},
   "source": [
    "### Questão 13) Qual o problema ao aplicar machine learning em bigdata que faz com que spark ganhe tanto destaque ?"
   ]
  },
  {
   "cell_type": "markdown",
   "metadata": {},
   "source": [
    "#### Resposta: \n",
    "Spark possue estrtuturas que tem bom desempenho para lidar com grandes volumes de dados, este permite ter uma melhor performace durante as etapas de treinamento, visto que Spark é uma ferramenta que trabalha com uma arquitetura distribuida."
   ]
  },
  {
   "cell_type": "markdown",
   "metadata": {},
   "source": [
    "### Questão 14) Cite um exemplo de um problema que não envolva machine learning que você detecta que spark poderia auxiliar ?"
   ]
  },
  {
   "cell_type": "markdown",
   "metadata": {},
   "source": [
    "#### Resposta:\n",
    "Realização de consultas complexas em estruturas de Bancos de Dados Relacionais. Modulo Spark aplicados no contexto de consultas complexas onde temos diversos relacionamento podem ser utilizados para ser obter uma melhor performace durante as consultas."
   ]
  },
  {
   "cell_type": "markdown",
   "metadata": {},
   "source": [
    "### Questão 15) Comente sobre a finalidade cada uma das bibliotecas do Spark: SQL and DataFrames, Spark Streaming, MLlib (machine learning) e GraphX (graph) ?"
   ]
  },
  {
   "cell_type": "markdown",
   "metadata": {},
   "source": [
    "#### Resposta:\n",
    "\n",
    "- Spark SQL é um módulo Spark para processamento de dados estruturados. Está API fornece uma interface sobre a estrutura dos dados e do cálculo que está sendo executado. Internamente, o Spark SQL usa essas informações extras para realizar otimizações extras. Existem várias maneiras de interagir com o Spark SQL, incluindo SQL e a API Dataset. Um uso do Spark SQL é executar consultas SQL. O Spark SQL também pode ser usado para ler dados. Um DataFrame é um conjunto de dados organizado em colunas nomeadas. Conceitualmente equivale a uma tabela em um banco de dados relacional ou um quadro de dados em R / Python, mas com otimizações. Os DataFrames podem ser construídos a partir de uma ampla variedade de fontes , como: arquivos de dados estruturados.\n",
    "\n",
    "- Spark Streaming é uma API que permite o processamento escalonável, de alto rendimento e tolerante a falhas de fluxos de dados ao vivo. Os dados podem ser ingeridos a partir de muitas fontes, como Kafka ou TCP, e pode ser processado por meio de algoritmos complexos expressos com funções de alto nível como map e reduce.\n",
    "\n",
    "- MLlib é a biblioteca de aprendizado de máquina (ML) do Spark. Seu objetivo é tornar o aprendizado de máquina prático escalonável e fácil.\n",
    "- GraphX é um novo componente do Spark para gráficos e computação paralela a gráficos. "
   ]
  },
  {
   "cell_type": "markdown",
   "metadata": {},
   "source": [
    "### Questão 16) O que são RDD ?"
   ]
  },
  {
   "cell_type": "markdown",
   "metadata": {},
   "source": [
    "#### Resposta:\n",
    "\n",
    "*Resilient Distributed Datasets* (RDD) é uma coleção imutável de objetos distribuídos. De acordo com a Documentação do Spark RDD é um conjunto de dados distribuído, que é uma coleção de elementos particionados nos nós do cluster que podem ser operados em paralelo.Os RDDs são criados começando com um arquivo no sistema de arquivos compatível com Hadoop ou uma coleção Scala existente no programa do driver e transformando-o."
   ]
  }
 ],
 "metadata": {
  "kernelspec": {
   "display_name": "Python 3",
   "language": "python",
   "name": "python3"
  },
  "language_info": {
   "codemirror_mode": {
    "name": "ipython",
    "version": 3
   },
   "file_extension": ".py",
   "mimetype": "text/x-python",
   "name": "python",
   "nbconvert_exporter": "python",
   "pygments_lexer": "ipython3",
   "version": "3.8.3"
  }
 },
 "nbformat": 4,
 "nbformat_minor": 2
}
